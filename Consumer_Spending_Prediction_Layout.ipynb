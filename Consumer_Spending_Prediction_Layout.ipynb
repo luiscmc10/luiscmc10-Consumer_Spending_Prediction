{
  "cells": [
    {
      "cell_type": "markdown",
      "metadata": {
        "id": "view-in-github",
        "colab_type": "text"
      },
      "source": [
        "<a href=\"https://colab.research.google.com/github/luiscmc10/luiscmc10-Consumer_Spending_Prediction/blob/main/Consumer_Spending_Prediction_Layout.ipynb\" target=\"_parent\"><img src=\"https://colab.research.google.com/assets/colab-badge.svg\" alt=\"Open In Colab\"/></a>"
      ]
    },
    {
      "cell_type": "markdown",
      "source": [
        "#**PROBLEMA DE NEGOCIO**\n",
        "\n",
        "\n",
        "---\n",
        "\n",
        "\n"
      ],
      "metadata": {
        "id": "-1hBTcO3DUcE"
      }
    },
    {
      "cell_type": "markdown",
      "source": [
        "La necesidad de prever y optimizar el gasto de sus usuarios ha llevado a una empresa de comercio electrónico a buscar soluciones innovadoras. Como científicos de datos, hemos sido convocados para desarrollar un modelo de machine learning que pueda predecir con precisión cuánto gastará un usuario al visitar dicho sitio web."
      ],
      "metadata": {
        "id": "B0aJ2-45DWYT"
      }
    },
    {
      "cell_type": "markdown",
      "source": [
        "### **Tus tareas principales serán:**\n",
        "\n",
        "**1. Preprocesamiento de Datos:** Importar correctamente y analizar y comprender el conjunto de datos proporcionado, realizar limpieza de datos, eliminar atributos que no aportan valor y manejar valores faltantes.\n",
        "\n",
        "**2. Exploración y Feature Engineering:** Realizar visualizaciones para entender las relaciones entre las variables y seleccionar las características relevantes, identificar variables llaves, codificación de variables categóricas y normalización/escalado de datos.\n",
        "\n",
        "**3. Construcción de Modelos:** Experimentar con algunos algoritmos de machine learning como Linear Regression, Decision Tree Regressor, Random Forest Regressor, entre otros.\n",
        "\n",
        "**4. Evaluación y Selección del Modelo:** Evaluar los modelos utilizando métricas como el error cuadrático medio (MSE), la raíz cuadrada del error cuadrático medio (RMSE) y el coeficiente de determinación (R²). Seleccionar el modelo con el mejor rendimiento para la predicción del gasto de los usuarios."
      ],
      "metadata": {
        "id": "W-CbolMODc_t"
      }
    },
    {
      "cell_type": "markdown",
      "source": [
        "#**1. Configuración del Ambiente**\n",
        "\n",
        "\n",
        "---\n",
        "\n",
        "\n"
      ],
      "metadata": {
        "id": "OYicz3XQPBWp"
      }
    },
    {
      "cell_type": "code",
      "source": [
        "!pip install wget\n",
        "import wget\n",
        "import warnings\n",
        "warnings.filterwarnings(\"ignore\")\n",
        "import pandas as pd\n",
        "pd.set_option('display.max_columns', None)\n",
        "import numpy as np\n",
        "import json\n",
        "import matplotlib.pyplot as plt\n",
        "import seaborn as sns\n",
        "from sklearn.model_selection import RandomizedSearchCV\n",
        "from sklearn.model_selection import GridSearchCV\n",
        "from scipy.stats import randint\n",
        "from sklearn.preprocessing import LabelEncoder\n",
        "from sklearn.preprocessing import StandardScaler\n",
        "from sklearn.metrics import r2_score, mean_squared_error\n",
        "from sklearn.model_selection import train_test_split\n",
        "from sklearn.linear_model import LinearRegression\n",
        "from sklearn.tree import DecisionTreeRegressor\n",
        "from sklearn.ensemble import RandomForestRegressor\n",
        "from sklearn.ensemble import RandomForestClassifier\n",
        "import xgboost as xgb\n",
        "import lightgbm as lgb\n",
        "from sklearn.preprocessing import FunctionTransformer\n",
        "from joblib import dump, load\n",
        "global df_traffic, resultados, modelo, modelo_clasificacion"
      ],
      "metadata": {
        "id": "OZd-jJGUPHMD",
        "colab": {
          "base_uri": "https://localhost:8080/"
        },
        "outputId": "2e8fd1ba-52de-4f69-b7fc-ab60138ed083"
      },
      "execution_count": 1,
      "outputs": [
        {
          "output_type": "stream",
          "name": "stdout",
          "text": [
            "Collecting wget\n",
            "  Downloading wget-3.2.zip (10 kB)\n",
            "  Preparing metadata (setup.py) ... \u001b[?25l\u001b[?25hdone\n",
            "Building wheels for collected packages: wget\n",
            "  Building wheel for wget (setup.py) ... \u001b[?25l\u001b[?25hdone\n",
            "  Created wheel for wget: filename=wget-3.2-py3-none-any.whl size=9655 sha256=4b554f704eb59407717d89f96c7f9013db0cdfc800a3de7a275891b08c77556f\n",
            "  Stored in directory: /root/.cache/pip/wheels/8b/f1/7f/5c94f0a7a505ca1c81cd1d9208ae2064675d97582078e6c769\n",
            "Successfully built wget\n",
            "Installing collected packages: wget\n",
            "Successfully installed wget-3.2\n"
          ]
        }
      ]
    },
    {
      "cell_type": "markdown",
      "source": [
        "#**2. Preprocesamiento de Datos**\n",
        "\n",
        "\n",
        "---\n"
      ],
      "metadata": {
        "id": "RPkjyKUEWBIt"
      }
    },
    {
      "cell_type": "code",
      "source": [
        "df = pd.read_csv('https://raw.githubusercontent.com/ElProfeAlejo/Bootcamp_Databases/main/traffic_site.csv')\n",
        "df.head(10)"
      ],
      "metadata": {
        "colab": {
          "base_uri": "https://localhost:8080/",
          "height": 903
        },
        "id": "eaPZ6GPc9E7t",
        "outputId": "686b778f-3f1b-4ddc-9493-fe10651e4b28"
      },
      "execution_count": null,
      "outputs": [
        {
          "output_type": "execute_result",
          "data": {
            "text/plain": [
              "  channelGrouping      date  \\\n",
              "0  Organic Search  20160902   \n",
              "1  Organic Search  20160902   \n",
              "2      Affiliates  20160902   \n",
              "3  Organic Search  20160902   \n",
              "4  Organic Search  20160902   \n",
              "5  Organic Search  20160902   \n",
              "6  Organic Search  20160902   \n",
              "7          Direct  20160902   \n",
              "8  Organic Search  20160902   \n",
              "9          Social  20160902   \n",
              "\n",
              "                                              device        fullVisitorId  \\\n",
              "0  {\"browser\": \"Chrome\", \"browserVersion\": \"not a...  9674781571160116268   \n",
              "1  {\"browser\": \"Chrome\", \"browserVersion\": \"not a...  8590648239310839049   \n",
              "2  {\"browser\": \"Chrome\", \"browserVersion\": \"not a...  9772828344252850532   \n",
              "3  {\"browser\": \"Safari\", \"browserVersion\": \"not a...  1350700416054916432   \n",
              "4  {\"browser\": \"Safari\", \"browserVersion\": \"not a...  1350700416054916432   \n",
              "5  {\"browser\": \"Chrome\", \"browserVersion\": \"not a...  9874029322760071744   \n",
              "6  {\"browser\": \"Chrome\", \"browserVersion\": \"not a...  9443838101670317185   \n",
              "7  {\"browser\": \"Chrome\", \"browserVersion\": \"not a...  4720137602861399516   \n",
              "8  {\"browser\": \"Safari\", \"browserVersion\": \"not a...  1350700416054916432   \n",
              "9  {\"browser\": \"Firefox\", \"browserVersion\": \"not ...  5990626540303882402   \n",
              "\n",
              "                                          geoNetwork  \\\n",
              "0  {\"continent\": \"Asia\", \"subContinent\": \"Southea...   \n",
              "1  {\"continent\": \"Europe\", \"subContinent\": \"Easte...   \n",
              "2  {\"continent\": \"Americas\", \"subContinent\": \"Sou...   \n",
              "3  {\"continent\": \"Americas\", \"subContinent\": \"Nor...   \n",
              "4  {\"continent\": \"Americas\", \"subContinent\": \"Nor...   \n",
              "5  {\"continent\": \"Americas\", \"subContinent\": \"Sou...   \n",
              "6  {\"continent\": \"Americas\", \"subContinent\": \"Nor...   \n",
              "7  {\"continent\": \"Americas\", \"subContinent\": \"Nor...   \n",
              "8  {\"continent\": \"Americas\", \"subContinent\": \"Nor...   \n",
              "9  {\"continent\": \"Europe\", \"subContinent\": \"South...   \n",
              "\n",
              "                        sessionId  socialEngagementType  \\\n",
              "0  9674781571160116268_1472804607  Not Socially Engaged   \n",
              "1  8590648239310839049_1472835928  Not Socially Engaged   \n",
              "2  9772828344252850532_1472856802  Not Socially Engaged   \n",
              "3  1350700416054916432_1472879649  Not Socially Engaged   \n",
              "4  1350700416054916432_1472829671  Not Socially Engaged   \n",
              "5  9874029322760071744_1472825224  Not Socially Engaged   \n",
              "6  9443838101670317185_1472832130  Not Socially Engaged   \n",
              "7  4720137602861399516_1472826545  Not Socially Engaged   \n",
              "8  1350700416054916432_1472882635  Not Socially Engaged   \n",
              "9  5990626540303882402_1472812848  Not Socially Engaged   \n",
              "\n",
              "                                              totals  \\\n",
              "0  {\"visits\": \"1\", \"hits\": \"1\", \"pageviews\": \"1\",...   \n",
              "1  {\"visits\": \"1\", \"hits\": \"1\", \"pageviews\": \"1\",...   \n",
              "2  {\"visits\": \"1\", \"hits\": \"1\", \"pageviews\": \"1\",...   \n",
              "3  {\"visits\": \"1\", \"hits\": \"1\", \"pageviews\": \"1\",...   \n",
              "4  {\"visits\": \"1\", \"hits\": \"5\", \"pageviews\": \"4\",...   \n",
              "5  {\"visits\": \"1\", \"hits\": \"7\", \"pageviews\": \"5\",...   \n",
              "6   {\"visits\": \"1\", \"hits\": \"19\", \"pageviews\": \"15\"}   \n",
              "7  {\"visits\": \"1\", \"hits\": \"27\", \"pageviews\": \"19...   \n",
              "8   {\"visits\": \"1\", \"hits\": \"49\", \"pageviews\": \"32\"}   \n",
              "9  {\"visits\": \"1\", \"hits\": \"1\", \"pageviews\": \"1\",...   \n",
              "\n",
              "                                       trafficSource     visitId  visitNumber  \\\n",
              "0  {\"campaign\": \"(not set)\", \"source\": \"google\", ...  1472804607            1   \n",
              "1  {\"campaign\": \"(not set)\", \"source\": \"google\", ...  1472835928            1   \n",
              "2  {\"campaign\": \"Data Share Promo\", \"source\": \"Pa...  1472856802            1   \n",
              "3  {\"campaign\": \"(not set)\", \"source\": \"google\", ...  1472879649            2   \n",
              "4  {\"campaign\": \"(not set)\", \"source\": \"google\", ...  1472829671            1   \n",
              "5  {\"campaign\": \"(not set)\", \"source\": \"google\", ...  1472825224            1   \n",
              "6  {\"campaign\": \"(not set)\", \"source\": \"google\", ...  1472832130            2   \n",
              "7  {\"campaign\": \"(not set)\", \"source\": \"(direct)\"...  1472826545            1   \n",
              "8  {\"campaign\": \"(not set)\", \"source\": \"google\", ...  1472882635            3   \n",
              "9  {\"referralPath\": \"/yt/about/it/\", \"campaign\": ...  1472812848            1   \n",
              "\n",
              "   visitStartTime  \n",
              "0      1472804607  \n",
              "1      1472835928  \n",
              "2      1472856802  \n",
              "3      1472879649  \n",
              "4      1472829671  \n",
              "5      1472825224  \n",
              "6      1472832130  \n",
              "7      1472826545  \n",
              "8      1472882635  \n",
              "9      1472812848  "
            ],
            "text/html": [
              "\n",
              "  <div id=\"df-c415bb48-3b4f-445a-a0bd-e9cef5907adc\" class=\"colab-df-container\">\n",
              "    <div>\n",
              "<style scoped>\n",
              "    .dataframe tbody tr th:only-of-type {\n",
              "        vertical-align: middle;\n",
              "    }\n",
              "\n",
              "    .dataframe tbody tr th {\n",
              "        vertical-align: top;\n",
              "    }\n",
              "\n",
              "    .dataframe thead th {\n",
              "        text-align: right;\n",
              "    }\n",
              "</style>\n",
              "<table border=\"1\" class=\"dataframe\">\n",
              "  <thead>\n",
              "    <tr style=\"text-align: right;\">\n",
              "      <th></th>\n",
              "      <th>channelGrouping</th>\n",
              "      <th>date</th>\n",
              "      <th>device</th>\n",
              "      <th>fullVisitorId</th>\n",
              "      <th>geoNetwork</th>\n",
              "      <th>sessionId</th>\n",
              "      <th>socialEngagementType</th>\n",
              "      <th>totals</th>\n",
              "      <th>trafficSource</th>\n",
              "      <th>visitId</th>\n",
              "      <th>visitNumber</th>\n",
              "      <th>visitStartTime</th>\n",
              "    </tr>\n",
              "  </thead>\n",
              "  <tbody>\n",
              "    <tr>\n",
              "      <th>0</th>\n",
              "      <td>Organic Search</td>\n",
              "      <td>20160902</td>\n",
              "      <td>{\"browser\": \"Chrome\", \"browserVersion\": \"not a...</td>\n",
              "      <td>9674781571160116268</td>\n",
              "      <td>{\"continent\": \"Asia\", \"subContinent\": \"Southea...</td>\n",
              "      <td>9674781571160116268_1472804607</td>\n",
              "      <td>Not Socially Engaged</td>\n",
              "      <td>{\"visits\": \"1\", \"hits\": \"1\", \"pageviews\": \"1\",...</td>\n",
              "      <td>{\"campaign\": \"(not set)\", \"source\": \"google\", ...</td>\n",
              "      <td>1472804607</td>\n",
              "      <td>1</td>\n",
              "      <td>1472804607</td>\n",
              "    </tr>\n",
              "    <tr>\n",
              "      <th>1</th>\n",
              "      <td>Organic Search</td>\n",
              "      <td>20160902</td>\n",
              "      <td>{\"browser\": \"Chrome\", \"browserVersion\": \"not a...</td>\n",
              "      <td>8590648239310839049</td>\n",
              "      <td>{\"continent\": \"Europe\", \"subContinent\": \"Easte...</td>\n",
              "      <td>8590648239310839049_1472835928</td>\n",
              "      <td>Not Socially Engaged</td>\n",
              "      <td>{\"visits\": \"1\", \"hits\": \"1\", \"pageviews\": \"1\",...</td>\n",
              "      <td>{\"campaign\": \"(not set)\", \"source\": \"google\", ...</td>\n",
              "      <td>1472835928</td>\n",
              "      <td>1</td>\n",
              "      <td>1472835928</td>\n",
              "    </tr>\n",
              "    <tr>\n",
              "      <th>2</th>\n",
              "      <td>Affiliates</td>\n",
              "      <td>20160902</td>\n",
              "      <td>{\"browser\": \"Chrome\", \"browserVersion\": \"not a...</td>\n",
              "      <td>9772828344252850532</td>\n",
              "      <td>{\"continent\": \"Americas\", \"subContinent\": \"Sou...</td>\n",
              "      <td>9772828344252850532_1472856802</td>\n",
              "      <td>Not Socially Engaged</td>\n",
              "      <td>{\"visits\": \"1\", \"hits\": \"1\", \"pageviews\": \"1\",...</td>\n",
              "      <td>{\"campaign\": \"Data Share Promo\", \"source\": \"Pa...</td>\n",
              "      <td>1472856802</td>\n",
              "      <td>1</td>\n",
              "      <td>1472856802</td>\n",
              "    </tr>\n",
              "    <tr>\n",
              "      <th>3</th>\n",
              "      <td>Organic Search</td>\n",
              "      <td>20160902</td>\n",
              "      <td>{\"browser\": \"Safari\", \"browserVersion\": \"not a...</td>\n",
              "      <td>1350700416054916432</td>\n",
              "      <td>{\"continent\": \"Americas\", \"subContinent\": \"Nor...</td>\n",
              "      <td>1350700416054916432_1472879649</td>\n",
              "      <td>Not Socially Engaged</td>\n",
              "      <td>{\"visits\": \"1\", \"hits\": \"1\", \"pageviews\": \"1\",...</td>\n",
              "      <td>{\"campaign\": \"(not set)\", \"source\": \"google\", ...</td>\n",
              "      <td>1472879649</td>\n",
              "      <td>2</td>\n",
              "      <td>1472879649</td>\n",
              "    </tr>\n",
              "    <tr>\n",
              "      <th>4</th>\n",
              "      <td>Organic Search</td>\n",
              "      <td>20160902</td>\n",
              "      <td>{\"browser\": \"Safari\", \"browserVersion\": \"not a...</td>\n",
              "      <td>1350700416054916432</td>\n",
              "      <td>{\"continent\": \"Americas\", \"subContinent\": \"Nor...</td>\n",
              "      <td>1350700416054916432_1472829671</td>\n",
              "      <td>Not Socially Engaged</td>\n",
              "      <td>{\"visits\": \"1\", \"hits\": \"5\", \"pageviews\": \"4\",...</td>\n",
              "      <td>{\"campaign\": \"(not set)\", \"source\": \"google\", ...</td>\n",
              "      <td>1472829671</td>\n",
              "      <td>1</td>\n",
              "      <td>1472829671</td>\n",
              "    </tr>\n",
              "    <tr>\n",
              "      <th>5</th>\n",
              "      <td>Organic Search</td>\n",
              "      <td>20160902</td>\n",
              "      <td>{\"browser\": \"Chrome\", \"browserVersion\": \"not a...</td>\n",
              "      <td>9874029322760071744</td>\n",
              "      <td>{\"continent\": \"Americas\", \"subContinent\": \"Sou...</td>\n",
              "      <td>9874029322760071744_1472825224</td>\n",
              "      <td>Not Socially Engaged</td>\n",
              "      <td>{\"visits\": \"1\", \"hits\": \"7\", \"pageviews\": \"5\",...</td>\n",
              "      <td>{\"campaign\": \"(not set)\", \"source\": \"google\", ...</td>\n",
              "      <td>1472825224</td>\n",
              "      <td>1</td>\n",
              "      <td>1472825224</td>\n",
              "    </tr>\n",
              "    <tr>\n",
              "      <th>6</th>\n",
              "      <td>Organic Search</td>\n",
              "      <td>20160902</td>\n",
              "      <td>{\"browser\": \"Chrome\", \"browserVersion\": \"not a...</td>\n",
              "      <td>9443838101670317185</td>\n",
              "      <td>{\"continent\": \"Americas\", \"subContinent\": \"Nor...</td>\n",
              "      <td>9443838101670317185_1472832130</td>\n",
              "      <td>Not Socially Engaged</td>\n",
              "      <td>{\"visits\": \"1\", \"hits\": \"19\", \"pageviews\": \"15\"}</td>\n",
              "      <td>{\"campaign\": \"(not set)\", \"source\": \"google\", ...</td>\n",
              "      <td>1472832130</td>\n",
              "      <td>2</td>\n",
              "      <td>1472832130</td>\n",
              "    </tr>\n",
              "    <tr>\n",
              "      <th>7</th>\n",
              "      <td>Direct</td>\n",
              "      <td>20160902</td>\n",
              "      <td>{\"browser\": \"Chrome\", \"browserVersion\": \"not a...</td>\n",
              "      <td>4720137602861399516</td>\n",
              "      <td>{\"continent\": \"Americas\", \"subContinent\": \"Nor...</td>\n",
              "      <td>4720137602861399516_1472826545</td>\n",
              "      <td>Not Socially Engaged</td>\n",
              "      <td>{\"visits\": \"1\", \"hits\": \"27\", \"pageviews\": \"19...</td>\n",
              "      <td>{\"campaign\": \"(not set)\", \"source\": \"(direct)\"...</td>\n",
              "      <td>1472826545</td>\n",
              "      <td>1</td>\n",
              "      <td>1472826545</td>\n",
              "    </tr>\n",
              "    <tr>\n",
              "      <th>8</th>\n",
              "      <td>Organic Search</td>\n",
              "      <td>20160902</td>\n",
              "      <td>{\"browser\": \"Safari\", \"browserVersion\": \"not a...</td>\n",
              "      <td>1350700416054916432</td>\n",
              "      <td>{\"continent\": \"Americas\", \"subContinent\": \"Nor...</td>\n",
              "      <td>1350700416054916432_1472882635</td>\n",
              "      <td>Not Socially Engaged</td>\n",
              "      <td>{\"visits\": \"1\", \"hits\": \"49\", \"pageviews\": \"32\"}</td>\n",
              "      <td>{\"campaign\": \"(not set)\", \"source\": \"google\", ...</td>\n",
              "      <td>1472882635</td>\n",
              "      <td>3</td>\n",
              "      <td>1472882635</td>\n",
              "    </tr>\n",
              "    <tr>\n",
              "      <th>9</th>\n",
              "      <td>Social</td>\n",
              "      <td>20160902</td>\n",
              "      <td>{\"browser\": \"Firefox\", \"browserVersion\": \"not ...</td>\n",
              "      <td>5990626540303882402</td>\n",
              "      <td>{\"continent\": \"Europe\", \"subContinent\": \"South...</td>\n",
              "      <td>5990626540303882402_1472812848</td>\n",
              "      <td>Not Socially Engaged</td>\n",
              "      <td>{\"visits\": \"1\", \"hits\": \"1\", \"pageviews\": \"1\",...</td>\n",
              "      <td>{\"referralPath\": \"/yt/about/it/\", \"campaign\": ...</td>\n",
              "      <td>1472812848</td>\n",
              "      <td>1</td>\n",
              "      <td>1472812848</td>\n",
              "    </tr>\n",
              "  </tbody>\n",
              "</table>\n",
              "</div>\n",
              "    <div class=\"colab-df-buttons\">\n",
              "\n",
              "  <div class=\"colab-df-container\">\n",
              "    <button class=\"colab-df-convert\" onclick=\"convertToInteractive('df-c415bb48-3b4f-445a-a0bd-e9cef5907adc')\"\n",
              "            title=\"Convert this dataframe to an interactive table.\"\n",
              "            style=\"display:none;\">\n",
              "\n",
              "  <svg xmlns=\"http://www.w3.org/2000/svg\" height=\"24px\" viewBox=\"0 -960 960 960\">\n",
              "    <path d=\"M120-120v-720h720v720H120Zm60-500h600v-160H180v160Zm220 220h160v-160H400v160Zm0 220h160v-160H400v160ZM180-400h160v-160H180v160Zm440 0h160v-160H620v160ZM180-180h160v-160H180v160Zm440 0h160v-160H620v160Z\"/>\n",
              "  </svg>\n",
              "    </button>\n",
              "\n",
              "  <style>\n",
              "    .colab-df-container {\n",
              "      display:flex;\n",
              "      gap: 12px;\n",
              "    }\n",
              "\n",
              "    .colab-df-convert {\n",
              "      background-color: #E8F0FE;\n",
              "      border: none;\n",
              "      border-radius: 50%;\n",
              "      cursor: pointer;\n",
              "      display: none;\n",
              "      fill: #1967D2;\n",
              "      height: 32px;\n",
              "      padding: 0 0 0 0;\n",
              "      width: 32px;\n",
              "    }\n",
              "\n",
              "    .colab-df-convert:hover {\n",
              "      background-color: #E2EBFA;\n",
              "      box-shadow: 0px 1px 2px rgba(60, 64, 67, 0.3), 0px 1px 3px 1px rgba(60, 64, 67, 0.15);\n",
              "      fill: #174EA6;\n",
              "    }\n",
              "\n",
              "    .colab-df-buttons div {\n",
              "      margin-bottom: 4px;\n",
              "    }\n",
              "\n",
              "    [theme=dark] .colab-df-convert {\n",
              "      background-color: #3B4455;\n",
              "      fill: #D2E3FC;\n",
              "    }\n",
              "\n",
              "    [theme=dark] .colab-df-convert:hover {\n",
              "      background-color: #434B5C;\n",
              "      box-shadow: 0px 1px 3px 1px rgba(0, 0, 0, 0.15);\n",
              "      filter: drop-shadow(0px 1px 2px rgba(0, 0, 0, 0.3));\n",
              "      fill: #FFFFFF;\n",
              "    }\n",
              "  </style>\n",
              "\n",
              "    <script>\n",
              "      const buttonEl =\n",
              "        document.querySelector('#df-c415bb48-3b4f-445a-a0bd-e9cef5907adc button.colab-df-convert');\n",
              "      buttonEl.style.display =\n",
              "        google.colab.kernel.accessAllowed ? 'block' : 'none';\n",
              "\n",
              "      async function convertToInteractive(key) {\n",
              "        const element = document.querySelector('#df-c415bb48-3b4f-445a-a0bd-e9cef5907adc');\n",
              "        const dataTable =\n",
              "          await google.colab.kernel.invokeFunction('convertToInteractive',\n",
              "                                                    [key], {});\n",
              "        if (!dataTable) return;\n",
              "\n",
              "        const docLinkHtml = 'Like what you see? Visit the ' +\n",
              "          '<a target=\"_blank\" href=https://colab.research.google.com/notebooks/data_table.ipynb>data table notebook</a>'\n",
              "          + ' to learn more about interactive tables.';\n",
              "        element.innerHTML = '';\n",
              "        dataTable['output_type'] = 'display_data';\n",
              "        await google.colab.output.renderOutput(dataTable, element);\n",
              "        const docLink = document.createElement('div');\n",
              "        docLink.innerHTML = docLinkHtml;\n",
              "        element.appendChild(docLink);\n",
              "      }\n",
              "    </script>\n",
              "  </div>\n",
              "\n",
              "\n",
              "<div id=\"df-17ee4a26-b1bb-41f3-aca1-81b991320cfd\">\n",
              "  <button class=\"colab-df-quickchart\" onclick=\"quickchart('df-17ee4a26-b1bb-41f3-aca1-81b991320cfd')\"\n",
              "            title=\"Suggest charts\"\n",
              "            style=\"display:none;\">\n",
              "\n",
              "<svg xmlns=\"http://www.w3.org/2000/svg\" height=\"24px\"viewBox=\"0 0 24 24\"\n",
              "     width=\"24px\">\n",
              "    <g>\n",
              "        <path d=\"M19 3H5c-1.1 0-2 .9-2 2v14c0 1.1.9 2 2 2h14c1.1 0 2-.9 2-2V5c0-1.1-.9-2-2-2zM9 17H7v-7h2v7zm4 0h-2V7h2v10zm4 0h-2v-4h2v4z\"/>\n",
              "    </g>\n",
              "</svg>\n",
              "  </button>\n",
              "\n",
              "<style>\n",
              "  .colab-df-quickchart {\n",
              "      --bg-color: #E8F0FE;\n",
              "      --fill-color: #1967D2;\n",
              "      --hover-bg-color: #E2EBFA;\n",
              "      --hover-fill-color: #174EA6;\n",
              "      --disabled-fill-color: #AAA;\n",
              "      --disabled-bg-color: #DDD;\n",
              "  }\n",
              "\n",
              "  [theme=dark] .colab-df-quickchart {\n",
              "      --bg-color: #3B4455;\n",
              "      --fill-color: #D2E3FC;\n",
              "      --hover-bg-color: #434B5C;\n",
              "      --hover-fill-color: #FFFFFF;\n",
              "      --disabled-bg-color: #3B4455;\n",
              "      --disabled-fill-color: #666;\n",
              "  }\n",
              "\n",
              "  .colab-df-quickchart {\n",
              "    background-color: var(--bg-color);\n",
              "    border: none;\n",
              "    border-radius: 50%;\n",
              "    cursor: pointer;\n",
              "    display: none;\n",
              "    fill: var(--fill-color);\n",
              "    height: 32px;\n",
              "    padding: 0;\n",
              "    width: 32px;\n",
              "  }\n",
              "\n",
              "  .colab-df-quickchart:hover {\n",
              "    background-color: var(--hover-bg-color);\n",
              "    box-shadow: 0 1px 2px rgba(60, 64, 67, 0.3), 0 1px 3px 1px rgba(60, 64, 67, 0.15);\n",
              "    fill: var(--button-hover-fill-color);\n",
              "  }\n",
              "\n",
              "  .colab-df-quickchart-complete:disabled,\n",
              "  .colab-df-quickchart-complete:disabled:hover {\n",
              "    background-color: var(--disabled-bg-color);\n",
              "    fill: var(--disabled-fill-color);\n",
              "    box-shadow: none;\n",
              "  }\n",
              "\n",
              "  .colab-df-spinner {\n",
              "    border: 2px solid var(--fill-color);\n",
              "    border-color: transparent;\n",
              "    border-bottom-color: var(--fill-color);\n",
              "    animation:\n",
              "      spin 1s steps(1) infinite;\n",
              "  }\n",
              "\n",
              "  @keyframes spin {\n",
              "    0% {\n",
              "      border-color: transparent;\n",
              "      border-bottom-color: var(--fill-color);\n",
              "      border-left-color: var(--fill-color);\n",
              "    }\n",
              "    20% {\n",
              "      border-color: transparent;\n",
              "      border-left-color: var(--fill-color);\n",
              "      border-top-color: var(--fill-color);\n",
              "    }\n",
              "    30% {\n",
              "      border-color: transparent;\n",
              "      border-left-color: var(--fill-color);\n",
              "      border-top-color: var(--fill-color);\n",
              "      border-right-color: var(--fill-color);\n",
              "    }\n",
              "    40% {\n",
              "      border-color: transparent;\n",
              "      border-right-color: var(--fill-color);\n",
              "      border-top-color: var(--fill-color);\n",
              "    }\n",
              "    60% {\n",
              "      border-color: transparent;\n",
              "      border-right-color: var(--fill-color);\n",
              "    }\n",
              "    80% {\n",
              "      border-color: transparent;\n",
              "      border-right-color: var(--fill-color);\n",
              "      border-bottom-color: var(--fill-color);\n",
              "    }\n",
              "    90% {\n",
              "      border-color: transparent;\n",
              "      border-bottom-color: var(--fill-color);\n",
              "    }\n",
              "  }\n",
              "</style>\n",
              "\n",
              "  <script>\n",
              "    async function quickchart(key) {\n",
              "      const quickchartButtonEl =\n",
              "        document.querySelector('#' + key + ' button');\n",
              "      quickchartButtonEl.disabled = true;  // To prevent multiple clicks.\n",
              "      quickchartButtonEl.classList.add('colab-df-spinner');\n",
              "      try {\n",
              "        const charts = await google.colab.kernel.invokeFunction(\n",
              "            'suggestCharts', [key], {});\n",
              "      } catch (error) {\n",
              "        console.error('Error during call to suggestCharts:', error);\n",
              "      }\n",
              "      quickchartButtonEl.classList.remove('colab-df-spinner');\n",
              "      quickchartButtonEl.classList.add('colab-df-quickchart-complete');\n",
              "    }\n",
              "    (() => {\n",
              "      let quickchartButtonEl =\n",
              "        document.querySelector('#df-17ee4a26-b1bb-41f3-aca1-81b991320cfd button');\n",
              "      quickchartButtonEl.style.display =\n",
              "        google.colab.kernel.accessAllowed ? 'block' : 'none';\n",
              "    })();\n",
              "  </script>\n",
              "</div>\n",
              "\n",
              "    </div>\n",
              "  </div>\n"
            ],
            "application/vnd.google.colaboratory.intrinsic+json": {
              "type": "dataframe",
              "variable_name": "df",
              "summary": "{\n  \"name\": \"df\",\n  \"rows\": 12283,\n  \"fields\": [\n    {\n      \"column\": \"channelGrouping\",\n      \"properties\": {\n        \"dtype\": \"category\",\n        \"num_unique_values\": 8,\n        \"samples\": [\n          \"Affiliates\",\n          \"Paid Search\",\n          \"Organic Search\"\n        ],\n        \"semantic_type\": \"\",\n        \"description\": \"\"\n      }\n    },\n    {\n      \"column\": \"date\",\n      \"properties\": {\n        \"dtype\": \"number\",\n        \"std\": 4691,\n        \"min\": 20160801,\n        \"max\": 20170801,\n        \"num_unique_values\": 366,\n        \"samples\": [\n          20160924,\n          20160822,\n          20170630\n        ],\n        \"semantic_type\": \"\",\n        \"description\": \"\"\n      }\n    },\n    {\n      \"column\": \"device\",\n      \"properties\": {\n        \"dtype\": \"category\",\n        \"num_unique_values\": 59,\n        \"samples\": [\n          \"{\\\"browser\\\": \\\"Chrome\\\", \\\"browserVersion\\\": \\\"not available in demo dataset\\\", \\\"browserSize\\\": \\\"not available in demo dataset\\\", \\\"operatingSystem\\\": \\\"Windows\\\", \\\"operatingSystemVersion\\\": \\\"not available in demo dataset\\\", \\\"isMobile\\\": false, \\\"mobileDeviceBranding\\\": \\\"not available in demo dataset\\\", \\\"mobileDeviceModel\\\": \\\"not available in demo dataset\\\", \\\"mobileInputSelector\\\": \\\"not available in demo dataset\\\", \\\"mobileDeviceInfo\\\": \\\"not available in demo dataset\\\", \\\"mobileDeviceMarketingName\\\": \\\"not available in demo dataset\\\", \\\"flashVersion\\\": \\\"not available in demo dataset\\\", \\\"language\\\": \\\"not available in demo dataset\\\", \\\"screenColors\\\": \\\"not available in demo dataset\\\", \\\"screenResolution\\\": \\\"not available in demo dataset\\\", \\\"deviceCategory\\\": \\\"desktop\\\"}\",\n          \"{\\\"browser\\\": \\\"Safari\\\", \\\"browserVersion\\\": \\\"not available in demo dataset\\\", \\\"browserSize\\\": \\\"not available in demo dataset\\\", \\\"operatingSystem\\\": \\\"Macintosh\\\", \\\"operatingSystemVersion\\\": \\\"not available in demo dataset\\\", \\\"isMobile\\\": false, \\\"mobileDeviceBranding\\\": \\\"not available in demo dataset\\\", \\\"mobileDeviceModel\\\": \\\"not available in demo dataset\\\", \\\"mobileInputSelector\\\": \\\"not available in demo dataset\\\", \\\"mobileDeviceInfo\\\": \\\"not available in demo dataset\\\", \\\"mobileDeviceMarketingName\\\": \\\"not available in demo dataset\\\", \\\"flashVersion\\\": \\\"not available in demo dataset\\\", \\\"language\\\": \\\"not available in demo dataset\\\", \\\"screenColors\\\": \\\"not available in demo dataset\\\", \\\"screenResolution\\\": \\\"not available in demo dataset\\\", \\\"deviceCategory\\\": \\\"desktop\\\"}\",\n          \"{\\\"browser\\\": \\\"YaBrowser\\\", \\\"browserVersion\\\": \\\"not available in demo dataset\\\", \\\"browserSize\\\": \\\"not available in demo dataset\\\", \\\"operatingSystem\\\": \\\"Windows\\\", \\\"operatingSystemVersion\\\": \\\"not available in demo dataset\\\", \\\"isMobile\\\": false, \\\"mobileDeviceBranding\\\": \\\"not available in demo dataset\\\", \\\"mobileDeviceModel\\\": \\\"not available in demo dataset\\\", \\\"mobileInputSelector\\\": \\\"not available in demo dataset\\\", \\\"mobileDeviceInfo\\\": \\\"not available in demo dataset\\\", \\\"mobileDeviceMarketingName\\\": \\\"not available in demo dataset\\\", \\\"flashVersion\\\": \\\"not available in demo dataset\\\", \\\"language\\\": \\\"not available in demo dataset\\\", \\\"screenColors\\\": \\\"not available in demo dataset\\\", \\\"screenResolution\\\": \\\"not available in demo dataset\\\", \\\"deviceCategory\\\": \\\"desktop\\\"}\"\n        ],\n        \"semantic_type\": \"\",\n        \"description\": \"\"\n      }\n    },\n    {\n      \"column\": \"fullVisitorId\",\n      \"properties\": {\n        \"dtype\": \"uint64\",\n        \"num_unique_values\": 9996,\n        \"samples\": [\n          5438524361308382695,\n          6478587070440681746,\n          2584057190904151275\n        ],\n        \"semantic_type\": \"\",\n        \"description\": \"\"\n      }\n    },\n    {\n      \"column\": \"geoNetwork\",\n      \"properties\": {\n        \"dtype\": \"category\",\n        \"num_unique_values\": 2858,\n        \"samples\": [\n          \"{\\\"continent\\\": \\\"Europe\\\", \\\"subContinent\\\": \\\"Western Europe\\\", \\\"country\\\": \\\"Germany\\\", \\\"region\\\": \\\"Hesse\\\", \\\"metro\\\": \\\"(not set)\\\", \\\"city\\\": \\\"Frankfurt\\\", \\\"cityId\\\": \\\"not available in demo dataset\\\", \\\"networkDomain\\\": \\\"amazonaws.com\\\", \\\"latitude\\\": \\\"not available in demo dataset\\\", \\\"longitude\\\": \\\"not available in demo dataset\\\", \\\"networkLocation\\\": \\\"not available in demo dataset\\\"}\",\n          \"{\\\"continent\\\": \\\"Americas\\\", \\\"subContinent\\\": \\\"Northern America\\\", \\\"country\\\": \\\"United States\\\", \\\"region\\\": \\\"California\\\", \\\"metro\\\": \\\"San Diego CA\\\", \\\"city\\\": \\\"San Diego\\\", \\\"cityId\\\": \\\"not available in demo dataset\\\", \\\"networkDomain\\\": \\\"cox.net\\\", \\\"latitude\\\": \\\"not available in demo dataset\\\", \\\"longitude\\\": \\\"not available in demo dataset\\\", \\\"networkLocation\\\": \\\"not available in demo dataset\\\"}\",\n          \"{\\\"continent\\\": \\\"Asia\\\", \\\"subContinent\\\": \\\"Western Asia\\\", \\\"country\\\": \\\"Kuwait\\\", \\\"region\\\": \\\"not available in demo dataset\\\", \\\"metro\\\": \\\"not available in demo dataset\\\", \\\"city\\\": \\\"not available in demo dataset\\\", \\\"cityId\\\": \\\"not available in demo dataset\\\", \\\"networkDomain\\\": \\\"kems.net\\\", \\\"latitude\\\": \\\"not available in demo dataset\\\", \\\"longitude\\\": \\\"not available in demo dataset\\\", \\\"networkLocation\\\": \\\"not available in demo dataset\\\"}\"\n        ],\n        \"semantic_type\": \"\",\n        \"description\": \"\"\n      }\n    },\n    {\n      \"column\": \"sessionId\",\n      \"properties\": {\n        \"dtype\": \"string\",\n        \"num_unique_values\": 12276,\n        \"samples\": [\n          \"4006042910073431362_1477121547\",\n          \"8806584944609764846_1489521002\",\n          \"0164031034782281128_1481332624\"\n        ],\n        \"semantic_type\": \"\",\n        \"description\": \"\"\n      }\n    },\n    {\n      \"column\": \"socialEngagementType\",\n      \"properties\": {\n        \"dtype\": \"category\",\n        \"num_unique_values\": 1,\n        \"samples\": [\n          \"Not Socially Engaged\"\n        ],\n        \"semantic_type\": \"\",\n        \"description\": \"\"\n      }\n    },\n    {\n      \"column\": \"totals\",\n      \"properties\": {\n        \"dtype\": \"category\",\n        \"num_unique_values\": 714,\n        \"samples\": [\n          \"{\\\"visits\\\": \\\"1\\\", \\\"hits\\\": \\\"33\\\", \\\"pageviews\\\": \\\"32\\\", \\\"newVisits\\\": \\\"1\\\"}\"\n        ],\n        \"semantic_type\": \"\",\n        \"description\": \"\"\n      }\n    },\n    {\n      \"column\": \"trafficSource\",\n      \"properties\": {\n        \"dtype\": \"category\",\n        \"num_unique_values\": 666,\n        \"samples\": [\n          \"{\\\"campaign\\\": \\\"AW - Accessories\\\", \\\"source\\\": \\\"google\\\", \\\"medium\\\": \\\"cpc\\\", \\\"keyword\\\": \\\"+google +store\\\", \\\"adContent\\\": \\\"Google Online Store\\\", \\\"adwordsClickInfo\\\": {\\\"page\\\": \\\"1\\\", \\\"slot\\\": \\\"Top\\\", \\\"criteriaParameters\\\": \\\"not available in demo dataset\\\", \\\"gclId\\\": \\\"Cj0KEQjwp83KBRC2kev0tZzExLkBEiQAYxYXOiidzUvvDGIG-GCEh7AEMXVXS1zfVJBpwOSZQbksiPUaApMJ8P8HAQ\\\", \\\"adNetworkType\\\": \\\"Google Search\\\", \\\"isVideoAd\\\": false}}\"\n        ],\n        \"semantic_type\": \"\",\n        \"description\": \"\"\n      }\n    },\n    {\n      \"column\": \"visitId\",\n      \"properties\": {\n        \"dtype\": \"number\",\n        \"std\": 8939018,\n        \"min\": 1470035521,\n        \"max\": 1501648138,\n        \"num_unique_values\": 12272,\n        \"samples\": [\n          1495077594\n        ],\n        \"semantic_type\": \"\",\n        \"description\": \"\"\n      }\n    },\n    {\n      \"column\": \"visitNumber\",\n      \"properties\": {\n        \"dtype\": \"number\",\n        \"std\": 5,\n        \"min\": 1,\n        \"max\": 195,\n        \"num_unique_values\": 50,\n        \"samples\": [\n          191\n        ],\n        \"semantic_type\": \"\",\n        \"description\": \"\"\n      }\n    },\n    {\n      \"column\": \"visitStartTime\",\n      \"properties\": {\n        \"dtype\": \"number\",\n        \"std\": 8939018,\n        \"min\": 1470035521,\n        \"max\": 1501648138,\n        \"num_unique_values\": 12279,\n        \"samples\": [\n          1477121547\n        ],\n        \"semantic_type\": \"\",\n        \"description\": \"\"\n      }\n    }\n  ]\n}"
            }
          },
          "metadata": {},
          "execution_count": 60
        }
      ]
    },
    {
      "cell_type": "code",
      "source": [
        "df.info()"
      ],
      "metadata": {
        "colab": {
          "base_uri": "https://localhost:8080/"
        },
        "id": "jYiYpsjf94lJ",
        "outputId": "db491cd4-d388-4cd6-b36c-495dd85b88d4"
      },
      "execution_count": null,
      "outputs": [
        {
          "output_type": "stream",
          "name": "stdout",
          "text": [
            "<class 'pandas.core.frame.DataFrame'>\n",
            "RangeIndex: 12283 entries, 0 to 12282\n",
            "Data columns (total 12 columns):\n",
            " #   Column                Non-Null Count  Dtype \n",
            "---  ------                --------------  ----- \n",
            " 0   channelGrouping       12283 non-null  object\n",
            " 1   date                  12283 non-null  int64 \n",
            " 2   device                12283 non-null  object\n",
            " 3   fullVisitorId         12283 non-null  uint64\n",
            " 4   geoNetwork            12283 non-null  object\n",
            " 5   sessionId             12283 non-null  object\n",
            " 6   socialEngagementType  12283 non-null  object\n",
            " 7   totals                12283 non-null  object\n",
            " 8   trafficSource         12283 non-null  object\n",
            " 9   visitId               12283 non-null  int64 \n",
            " 10  visitNumber           12283 non-null  int64 \n",
            " 11  visitStartTime        12283 non-null  int64 \n",
            "dtypes: int64(4), object(7), uint64(1)\n",
            "memory usage: 1.1+ MB\n"
          ]
        }
      ]
    },
    {
      "cell_type": "code",
      "source": [
        "# Necesitamos validar que tipos de datos tiene las columnas tipo json\n",
        "df.device.value_counts().index\n"
      ],
      "metadata": {
        "id": "O8YAnauWxJz3"
      },
      "execution_count": null,
      "outputs": []
    },
    {
      "cell_type": "code",
      "source": [
        "df.geoNetwork.value_counts().index"
      ],
      "metadata": {
        "id": "w7e2DIuUx3La"
      },
      "execution_count": null,
      "outputs": []
    },
    {
      "cell_type": "code",
      "source": [
        "df.totals.value_counts().index"
      ],
      "metadata": {
        "id": "yLbSCco-x4F9"
      },
      "execution_count": null,
      "outputs": []
    },
    {
      "cell_type": "code",
      "source": [
        "df.trafficSource.value_counts().index"
      ],
      "metadata": {
        "id": "3I2pWT97ygna"
      },
      "execution_count": null,
      "outputs": []
    },
    {
      "cell_type": "code",
      "source": [
        "df_traffic = pd.read_csv('https://raw.githubusercontent.com/ElProfeAlejo/Bootcamp_Databases/main/traffic_site.csv', dtype={'date':object,'fullVisitorId':object,'visitId':object})\n",
        "import pandas as pd\n",
        "import json\n",
        "\n",
        "def preprocesamiento():\n",
        "    global df_traffic\n",
        "\n",
        "    # Extraer datos de diccionarios\n",
        "    diccionarios = ['device','geoNetwork','trafficSource','totals']\n",
        "    for columna in diccionarios:\n",
        "        df_traffic = df_traffic.join(pd.DataFrame([json.loads(linea) for linea in df_traffic[columna]]))\n",
        "    df_traffic = df_traffic.drop(columns=diccionarios)\n",
        "    # o puedo ustilizar esta otra opción df_traffic.drop(columns=diccionarios, inplace=True)\n",
        "\n",
        "    #Eliminar las columnas que no requerimos\n",
        "    df_traffic= df_traffic.drop(columns=['socialEngagementType','browserVersion','browserSize','operatingSystemVersion','mobileDeviceBranding','mobileDeviceModel','mobileInputSelector','mobileDeviceInfo','mobileDeviceMarketingName','flashVersion','language','screenColors','screenResolution','continent','subContinent','country','region','cityId','latitude','longitude','networkLocation','keyword','adwordsClickInfo','isTrueDirect','adContent','campaignCode','networkDomain','visits'])\n",
        "\n",
        "    # Eliminar duplicados\n",
        "    df_traffic = df_traffic.drop_duplicates()\n",
        "\n",
        "    # Reemplazar textos por números\n",
        "    cuant = ['bounces', 'hits','newVisits','pageviews', 'transactionRevenue']\n",
        "    for columna in cuant:\n",
        "        df_traffic[columna] = pd.to_numeric(df_traffic[columna])\n",
        "    df_traffic[cuant] = df_traffic[cuant].fillna(0)\n",
        "    df_traffic['transactionRevenue'] = df_traffic['transactionRevenue'] / 1000000\n",
        "\n",
        "\n",
        "   # Reemplazar números por fechas\n",
        "    df_traffic['date'] = pd.to_datetime(df_traffic['date'], format='%Y%m%d')\n",
        "    df_traffic['visitStartTime'] = pd.to_datetime(df_traffic['visitStartTime'], unit='s')\n",
        "    df_traffic.bounces = df_traffic.bounces.astype(int)\n",
        "    df_traffic.newVisits = df_traffic.newVisits.astype(int)\n",
        "\n",
        "\n",
        "\n",
        "preprocesamiento()\n",
        "df_traffic.sample(5)"
      ],
      "metadata": {
        "id": "Ys1n27NWptf-"
      },
      "execution_count": null,
      "outputs": []
    },
    {
      "cell_type": "code",
      "source": [
        "#1 Valido la información de mi base de datos\n",
        "df_traffic.info()"
      ],
      "metadata": {
        "colab": {
          "base_uri": "https://localhost:8080/"
        },
        "id": "UEcMSBkJqQ-X",
        "outputId": "e3b6c5bc-bd1b-4546-d115-561ae3e9e698"
      },
      "execution_count": null,
      "outputs": [
        {
          "output_type": "stream",
          "name": "stdout",
          "text": [
            "<class 'pandas.core.frame.DataFrame'>\n",
            "Int64Index: 12283 entries, 0 to 12282\n",
            "Data columns (total 22 columns):\n",
            " #   Column              Non-Null Count  Dtype         \n",
            "---  ------              --------------  -----         \n",
            " 0   channelGrouping     12283 non-null  object        \n",
            " 1   date                12283 non-null  datetime64[ns]\n",
            " 2   fullVisitorId       12283 non-null  object        \n",
            " 3   sessionId           12283 non-null  object        \n",
            " 4   visitId             12283 non-null  object        \n",
            " 5   visitNumber         12283 non-null  int64         \n",
            " 6   visitStartTime      12283 non-null  datetime64[ns]\n",
            " 7   browser             12283 non-null  object        \n",
            " 8   operatingSystem     12283 non-null  object        \n",
            " 9   isMobile            12283 non-null  bool          \n",
            " 10  deviceCategory      12283 non-null  object        \n",
            " 11  metro               12283 non-null  object        \n",
            " 12  city                12283 non-null  object        \n",
            " 13  campaign            12283 non-null  object        \n",
            " 14  source              12283 non-null  object        \n",
            " 15  medium              12283 non-null  object        \n",
            " 16  referralPath        4490 non-null   object        \n",
            " 17  hits                12283 non-null  int64         \n",
            " 18  pageviews           12283 non-null  int64         \n",
            " 19  bounces             12283 non-null  int64         \n",
            " 20  newVisits           12283 non-null  int64         \n",
            " 21  transactionRevenue  12283 non-null  float64       \n",
            "dtypes: bool(1), datetime64[ns](2), float64(1), int64(5), object(13)\n",
            "memory usage: 2.1+ MB\n"
          ]
        }
      ]
    },
    {
      "cell_type": "code",
      "source": [
        "df_traffic['referralPath'].unique()\n",
        "df_traffic.referralPath.value_counts()"
      ],
      "metadata": {
        "colab": {
          "base_uri": "https://localhost:8080/"
        },
        "id": "8NRYRfniW3aN",
        "outputId": "31e0b571-5a51-49fd-a0ec-c034a4dce1a9"
      },
      "execution_count": null,
      "outputs": [
        {
          "output_type": "execute_result",
          "data": {
            "text/plain": [
              "/                                           1042\n",
              "/yt/about/                                   931\n",
              "/yt/about/tr/                                205\n",
              "/analytics/web/                              196\n",
              "/yt/about/vi/                                195\n",
              "                                            ... \n",
              "/neo/rd                                        1\n",
              "/How-do-I-get-a-Google-I-O-t-shirt             1\n",
              "/yt/about/id/index.html                        1\n",
              "/intl/id/permissions/using-the-logo.html       1\n",
              "/intl/vi/yt/about/press/                       1\n",
              "Name: referralPath, Length: 197, dtype: int64"
            ]
          },
          "metadata": {},
          "execution_count": 146
        }
      ]
    },
    {
      "cell_type": "code",
      "source": [
        "diccionario_referralPath = {'/':1,'/yt/about/':1,'/yt/about/tr/':1,'/analytics/web/':1,'/yt/about/vi/':1,'/neo/rd':1,'/How-do-I-get-a-Google-I-O-t-shirt':1,'/yt/about/id/index.html':1,'/intl/id/permissions/using-the-logo.html':1,'/intl/vi/yt/about/press/':1}\n",
        "df_traffic['referralPath'] = df_traffic['referralPath'].map(diccionario_referralPath)\n",
        "df_traffic['referralPath'] = df_traffic['referralPath'].fillna(0)\n"
      ],
      "metadata": {
        "id": "2_-0wOujYuSm"
      },
      "execution_count": null,
      "outputs": []
    },
    {
      "cell_type": "code",
      "source": [
        "#1 Valido la información de mi base de datos\n",
        "df_traffic.info()"
      ],
      "metadata": {
        "colab": {
          "base_uri": "https://localhost:8080/"
        },
        "id": "KJRud_6ocolI",
        "outputId": "bb62cade-4820-4fe7-9b1a-999846a377a9"
      },
      "execution_count": null,
      "outputs": [
        {
          "output_type": "stream",
          "name": "stdout",
          "text": [
            "<class 'pandas.core.frame.DataFrame'>\n",
            "Int64Index: 12283 entries, 0 to 12282\n",
            "Data columns (total 22 columns):\n",
            " #   Column              Non-Null Count  Dtype         \n",
            "---  ------              --------------  -----         \n",
            " 0   channelGrouping     12283 non-null  object        \n",
            " 1   date                12283 non-null  datetime64[ns]\n",
            " 2   fullVisitorId       12283 non-null  object        \n",
            " 3   sessionId           12283 non-null  object        \n",
            " 4   visitId             12283 non-null  object        \n",
            " 5   visitNumber         12283 non-null  int64         \n",
            " 6   visitStartTime      12283 non-null  datetime64[ns]\n",
            " 7   browser             12283 non-null  object        \n",
            " 8   operatingSystem     12283 non-null  object        \n",
            " 9   isMobile            12283 non-null  bool          \n",
            " 10  deviceCategory      12283 non-null  object        \n",
            " 11  metro               12283 non-null  object        \n",
            " 12  city                12283 non-null  object        \n",
            " 13  campaign            12283 non-null  object        \n",
            " 14  source              12283 non-null  object        \n",
            " 15  medium              12283 non-null  object        \n",
            " 16  referralPath        12283 non-null  float64       \n",
            " 17  hits                12283 non-null  int64         \n",
            " 18  pageviews           12283 non-null  int64         \n",
            " 19  bounces             12283 non-null  int64         \n",
            " 20  newVisits           12283 non-null  int64         \n",
            " 21  transactionRevenue  12283 non-null  float64       \n",
            "dtypes: bool(1), datetime64[ns](2), float64(2), int64(5), object(12)\n",
            "memory usage: 2.1+ MB\n"
          ]
        }
      ]
    },
    {
      "cell_type": "code",
      "source": [
        "df_traffic.sample(5)"
      ],
      "metadata": {
        "colab": {
          "base_uri": "https://localhost:8080/",
          "height": 504
        },
        "id": "W0q5p5SCczWS",
        "outputId": "14553e0f-eb19-4ef3-aee9-5a0e11dc2496"
      },
      "execution_count": null,
      "outputs": [
        {
          "output_type": "execute_result",
          "data": {
            "text/plain": [
              "     channelGrouping       date        fullVisitorId  \\\n",
              "1911          Social 2017-03-20  4473272788220267679   \n",
              "5741          Social 2016-08-14  9976407758466356759   \n",
              "5662  Organic Search 2016-12-05   110975100919566950   \n",
              "2527  Organic Search 2016-08-19  7076241691251193391   \n",
              "8102  Organic Search 2016-10-12  5310912563447452038   \n",
              "\n",
              "                           sessionId     visitId  visitNumber  \\\n",
              "1911  4473272788220267679_1490022998  1490022998            1   \n",
              "5741  9976407758466356759_1471211782  1471211782            1   \n",
              "5662   110975100919566950_1480999011  1480999011            1   \n",
              "2527  7076241691251193391_1471618237  1471618237            1   \n",
              "8102  5310912563447452038_1476302884  1476302884           15   \n",
              "\n",
              "          visitStartTime browser operatingSystem  isMobile deviceCategory  \\\n",
              "1911 2017-03-20 15:16:38  Chrome         Windows     False        desktop   \n",
              "5741 2016-08-14 21:56:22   Opera         Windows     False        desktop   \n",
              "5662 2016-12-06 04:36:51  Safari             iOS      True         mobile   \n",
              "2527 2016-08-19 14:50:37  Chrome         Windows     False        desktop   \n",
              "8102 2016-10-12 20:08:04  Chrome           Linux     False        desktop   \n",
              "\n",
              "                                  metro                           city  \\\n",
              "1911      not available in demo dataset  not available in demo dataset   \n",
              "5741      not available in demo dataset  not available in demo dataset   \n",
              "5662      not available in demo dataset  not available in demo dataset   \n",
              "2527      not available in demo dataset  not available in demo dataset   \n",
              "8102  San Francisco-Oakland-San Jose CA                  Mountain View   \n",
              "\n",
              "       campaign       source    medium  referralPath  hits  pageviews  \\\n",
              "1911  (not set)  youtube.com  referral           0.0     3          3   \n",
              "5741  (not set)  youtube.com  referral           0.0     1          1   \n",
              "5662  (not set)       google   organic           0.0     1          1   \n",
              "2527  (not set)       google   organic           0.0     1          1   \n",
              "8102  (not set)       google   organic           0.0    13         13   \n",
              "\n",
              "      bounces  newVisits  transactionRevenue  \n",
              "1911        0          1                0.00  \n",
              "5741        1          1                0.00  \n",
              "5662        1          1                0.00  \n",
              "2527        1          1                0.00  \n",
              "8102        0          0              372.65  "
            ],
            "text/html": [
              "\n",
              "  <div id=\"df-d241e1f8-1b69-4356-a664-ee9b2b1e100c\" class=\"colab-df-container\">\n",
              "    <div>\n",
              "<style scoped>\n",
              "    .dataframe tbody tr th:only-of-type {\n",
              "        vertical-align: middle;\n",
              "    }\n",
              "\n",
              "    .dataframe tbody tr th {\n",
              "        vertical-align: top;\n",
              "    }\n",
              "\n",
              "    .dataframe thead th {\n",
              "        text-align: right;\n",
              "    }\n",
              "</style>\n",
              "<table border=\"1\" class=\"dataframe\">\n",
              "  <thead>\n",
              "    <tr style=\"text-align: right;\">\n",
              "      <th></th>\n",
              "      <th>channelGrouping</th>\n",
              "      <th>date</th>\n",
              "      <th>fullVisitorId</th>\n",
              "      <th>sessionId</th>\n",
              "      <th>visitId</th>\n",
              "      <th>visitNumber</th>\n",
              "      <th>visitStartTime</th>\n",
              "      <th>browser</th>\n",
              "      <th>operatingSystem</th>\n",
              "      <th>isMobile</th>\n",
              "      <th>deviceCategory</th>\n",
              "      <th>metro</th>\n",
              "      <th>city</th>\n",
              "      <th>campaign</th>\n",
              "      <th>source</th>\n",
              "      <th>medium</th>\n",
              "      <th>referralPath</th>\n",
              "      <th>hits</th>\n",
              "      <th>pageviews</th>\n",
              "      <th>bounces</th>\n",
              "      <th>newVisits</th>\n",
              "      <th>transactionRevenue</th>\n",
              "    </tr>\n",
              "  </thead>\n",
              "  <tbody>\n",
              "    <tr>\n",
              "      <th>1911</th>\n",
              "      <td>Social</td>\n",
              "      <td>2017-03-20</td>\n",
              "      <td>4473272788220267679</td>\n",
              "      <td>4473272788220267679_1490022998</td>\n",
              "      <td>1490022998</td>\n",
              "      <td>1</td>\n",
              "      <td>2017-03-20 15:16:38</td>\n",
              "      <td>Chrome</td>\n",
              "      <td>Windows</td>\n",
              "      <td>False</td>\n",
              "      <td>desktop</td>\n",
              "      <td>not available in demo dataset</td>\n",
              "      <td>not available in demo dataset</td>\n",
              "      <td>(not set)</td>\n",
              "      <td>youtube.com</td>\n",
              "      <td>referral</td>\n",
              "      <td>0.0</td>\n",
              "      <td>3</td>\n",
              "      <td>3</td>\n",
              "      <td>0</td>\n",
              "      <td>1</td>\n",
              "      <td>0.00</td>\n",
              "    </tr>\n",
              "    <tr>\n",
              "      <th>5741</th>\n",
              "      <td>Social</td>\n",
              "      <td>2016-08-14</td>\n",
              "      <td>9976407758466356759</td>\n",
              "      <td>9976407758466356759_1471211782</td>\n",
              "      <td>1471211782</td>\n",
              "      <td>1</td>\n",
              "      <td>2016-08-14 21:56:22</td>\n",
              "      <td>Opera</td>\n",
              "      <td>Windows</td>\n",
              "      <td>False</td>\n",
              "      <td>desktop</td>\n",
              "      <td>not available in demo dataset</td>\n",
              "      <td>not available in demo dataset</td>\n",
              "      <td>(not set)</td>\n",
              "      <td>youtube.com</td>\n",
              "      <td>referral</td>\n",
              "      <td>0.0</td>\n",
              "      <td>1</td>\n",
              "      <td>1</td>\n",
              "      <td>1</td>\n",
              "      <td>1</td>\n",
              "      <td>0.00</td>\n",
              "    </tr>\n",
              "    <tr>\n",
              "      <th>5662</th>\n",
              "      <td>Organic Search</td>\n",
              "      <td>2016-12-05</td>\n",
              "      <td>110975100919566950</td>\n",
              "      <td>110975100919566950_1480999011</td>\n",
              "      <td>1480999011</td>\n",
              "      <td>1</td>\n",
              "      <td>2016-12-06 04:36:51</td>\n",
              "      <td>Safari</td>\n",
              "      <td>iOS</td>\n",
              "      <td>True</td>\n",
              "      <td>mobile</td>\n",
              "      <td>not available in demo dataset</td>\n",
              "      <td>not available in demo dataset</td>\n",
              "      <td>(not set)</td>\n",
              "      <td>google</td>\n",
              "      <td>organic</td>\n",
              "      <td>0.0</td>\n",
              "      <td>1</td>\n",
              "      <td>1</td>\n",
              "      <td>1</td>\n",
              "      <td>1</td>\n",
              "      <td>0.00</td>\n",
              "    </tr>\n",
              "    <tr>\n",
              "      <th>2527</th>\n",
              "      <td>Organic Search</td>\n",
              "      <td>2016-08-19</td>\n",
              "      <td>7076241691251193391</td>\n",
              "      <td>7076241691251193391_1471618237</td>\n",
              "      <td>1471618237</td>\n",
              "      <td>1</td>\n",
              "      <td>2016-08-19 14:50:37</td>\n",
              "      <td>Chrome</td>\n",
              "      <td>Windows</td>\n",
              "      <td>False</td>\n",
              "      <td>desktop</td>\n",
              "      <td>not available in demo dataset</td>\n",
              "      <td>not available in demo dataset</td>\n",
              "      <td>(not set)</td>\n",
              "      <td>google</td>\n",
              "      <td>organic</td>\n",
              "      <td>0.0</td>\n",
              "      <td>1</td>\n",
              "      <td>1</td>\n",
              "      <td>1</td>\n",
              "      <td>1</td>\n",
              "      <td>0.00</td>\n",
              "    </tr>\n",
              "    <tr>\n",
              "      <th>8102</th>\n",
              "      <td>Organic Search</td>\n",
              "      <td>2016-10-12</td>\n",
              "      <td>5310912563447452038</td>\n",
              "      <td>5310912563447452038_1476302884</td>\n",
              "      <td>1476302884</td>\n",
              "      <td>15</td>\n",
              "      <td>2016-10-12 20:08:04</td>\n",
              "      <td>Chrome</td>\n",
              "      <td>Linux</td>\n",
              "      <td>False</td>\n",
              "      <td>desktop</td>\n",
              "      <td>San Francisco-Oakland-San Jose CA</td>\n",
              "      <td>Mountain View</td>\n",
              "      <td>(not set)</td>\n",
              "      <td>google</td>\n",
              "      <td>organic</td>\n",
              "      <td>0.0</td>\n",
              "      <td>13</td>\n",
              "      <td>13</td>\n",
              "      <td>0</td>\n",
              "      <td>0</td>\n",
              "      <td>372.65</td>\n",
              "    </tr>\n",
              "  </tbody>\n",
              "</table>\n",
              "</div>\n",
              "    <div class=\"colab-df-buttons\">\n",
              "\n",
              "  <div class=\"colab-df-container\">\n",
              "    <button class=\"colab-df-convert\" onclick=\"convertToInteractive('df-d241e1f8-1b69-4356-a664-ee9b2b1e100c')\"\n",
              "            title=\"Convert this dataframe to an interactive table.\"\n",
              "            style=\"display:none;\">\n",
              "\n",
              "  <svg xmlns=\"http://www.w3.org/2000/svg\" height=\"24px\" viewBox=\"0 -960 960 960\">\n",
              "    <path d=\"M120-120v-720h720v720H120Zm60-500h600v-160H180v160Zm220 220h160v-160H400v160Zm0 220h160v-160H400v160ZM180-400h160v-160H180v160Zm440 0h160v-160H620v160ZM180-180h160v-160H180v160Zm440 0h160v-160H620v160Z\"/>\n",
              "  </svg>\n",
              "    </button>\n",
              "\n",
              "  <style>\n",
              "    .colab-df-container {\n",
              "      display:flex;\n",
              "      gap: 12px;\n",
              "    }\n",
              "\n",
              "    .colab-df-convert {\n",
              "      background-color: #E8F0FE;\n",
              "      border: none;\n",
              "      border-radius: 50%;\n",
              "      cursor: pointer;\n",
              "      display: none;\n",
              "      fill: #1967D2;\n",
              "      height: 32px;\n",
              "      padding: 0 0 0 0;\n",
              "      width: 32px;\n",
              "    }\n",
              "\n",
              "    .colab-df-convert:hover {\n",
              "      background-color: #E2EBFA;\n",
              "      box-shadow: 0px 1px 2px rgba(60, 64, 67, 0.3), 0px 1px 3px 1px rgba(60, 64, 67, 0.15);\n",
              "      fill: #174EA6;\n",
              "    }\n",
              "\n",
              "    .colab-df-buttons div {\n",
              "      margin-bottom: 4px;\n",
              "    }\n",
              "\n",
              "    [theme=dark] .colab-df-convert {\n",
              "      background-color: #3B4455;\n",
              "      fill: #D2E3FC;\n",
              "    }\n",
              "\n",
              "    [theme=dark] .colab-df-convert:hover {\n",
              "      background-color: #434B5C;\n",
              "      box-shadow: 0px 1px 3px 1px rgba(0, 0, 0, 0.15);\n",
              "      filter: drop-shadow(0px 1px 2px rgba(0, 0, 0, 0.3));\n",
              "      fill: #FFFFFF;\n",
              "    }\n",
              "  </style>\n",
              "\n",
              "    <script>\n",
              "      const buttonEl =\n",
              "        document.querySelector('#df-d241e1f8-1b69-4356-a664-ee9b2b1e100c button.colab-df-convert');\n",
              "      buttonEl.style.display =\n",
              "        google.colab.kernel.accessAllowed ? 'block' : 'none';\n",
              "\n",
              "      async function convertToInteractive(key) {\n",
              "        const element = document.querySelector('#df-d241e1f8-1b69-4356-a664-ee9b2b1e100c');\n",
              "        const dataTable =\n",
              "          await google.colab.kernel.invokeFunction('convertToInteractive',\n",
              "                                                    [key], {});\n",
              "        if (!dataTable) return;\n",
              "\n",
              "        const docLinkHtml = 'Like what you see? Visit the ' +\n",
              "          '<a target=\"_blank\" href=https://colab.research.google.com/notebooks/data_table.ipynb>data table notebook</a>'\n",
              "          + ' to learn more about interactive tables.';\n",
              "        element.innerHTML = '';\n",
              "        dataTable['output_type'] = 'display_data';\n",
              "        await google.colab.output.renderOutput(dataTable, element);\n",
              "        const docLink = document.createElement('div');\n",
              "        docLink.innerHTML = docLinkHtml;\n",
              "        element.appendChild(docLink);\n",
              "      }\n",
              "    </script>\n",
              "  </div>\n",
              "\n",
              "\n",
              "<div id=\"df-3e273386-7160-4131-9258-3b87c6dd908e\">\n",
              "  <button class=\"colab-df-quickchart\" onclick=\"quickchart('df-3e273386-7160-4131-9258-3b87c6dd908e')\"\n",
              "            title=\"Suggest charts\"\n",
              "            style=\"display:none;\">\n",
              "\n",
              "<svg xmlns=\"http://www.w3.org/2000/svg\" height=\"24px\"viewBox=\"0 0 24 24\"\n",
              "     width=\"24px\">\n",
              "    <g>\n",
              "        <path d=\"M19 3H5c-1.1 0-2 .9-2 2v14c0 1.1.9 2 2 2h14c1.1 0 2-.9 2-2V5c0-1.1-.9-2-2-2zM9 17H7v-7h2v7zm4 0h-2V7h2v10zm4 0h-2v-4h2v4z\"/>\n",
              "    </g>\n",
              "</svg>\n",
              "  </button>\n",
              "\n",
              "<style>\n",
              "  .colab-df-quickchart {\n",
              "      --bg-color: #E8F0FE;\n",
              "      --fill-color: #1967D2;\n",
              "      --hover-bg-color: #E2EBFA;\n",
              "      --hover-fill-color: #174EA6;\n",
              "      --disabled-fill-color: #AAA;\n",
              "      --disabled-bg-color: #DDD;\n",
              "  }\n",
              "\n",
              "  [theme=dark] .colab-df-quickchart {\n",
              "      --bg-color: #3B4455;\n",
              "      --fill-color: #D2E3FC;\n",
              "      --hover-bg-color: #434B5C;\n",
              "      --hover-fill-color: #FFFFFF;\n",
              "      --disabled-bg-color: #3B4455;\n",
              "      --disabled-fill-color: #666;\n",
              "  }\n",
              "\n",
              "  .colab-df-quickchart {\n",
              "    background-color: var(--bg-color);\n",
              "    border: none;\n",
              "    border-radius: 50%;\n",
              "    cursor: pointer;\n",
              "    display: none;\n",
              "    fill: var(--fill-color);\n",
              "    height: 32px;\n",
              "    padding: 0;\n",
              "    width: 32px;\n",
              "  }\n",
              "\n",
              "  .colab-df-quickchart:hover {\n",
              "    background-color: var(--hover-bg-color);\n",
              "    box-shadow: 0 1px 2px rgba(60, 64, 67, 0.3), 0 1px 3px 1px rgba(60, 64, 67, 0.15);\n",
              "    fill: var(--button-hover-fill-color);\n",
              "  }\n",
              "\n",
              "  .colab-df-quickchart-complete:disabled,\n",
              "  .colab-df-quickchart-complete:disabled:hover {\n",
              "    background-color: var(--disabled-bg-color);\n",
              "    fill: var(--disabled-fill-color);\n",
              "    box-shadow: none;\n",
              "  }\n",
              "\n",
              "  .colab-df-spinner {\n",
              "    border: 2px solid var(--fill-color);\n",
              "    border-color: transparent;\n",
              "    border-bottom-color: var(--fill-color);\n",
              "    animation:\n",
              "      spin 1s steps(1) infinite;\n",
              "  }\n",
              "\n",
              "  @keyframes spin {\n",
              "    0% {\n",
              "      border-color: transparent;\n",
              "      border-bottom-color: var(--fill-color);\n",
              "      border-left-color: var(--fill-color);\n",
              "    }\n",
              "    20% {\n",
              "      border-color: transparent;\n",
              "      border-left-color: var(--fill-color);\n",
              "      border-top-color: var(--fill-color);\n",
              "    }\n",
              "    30% {\n",
              "      border-color: transparent;\n",
              "      border-left-color: var(--fill-color);\n",
              "      border-top-color: var(--fill-color);\n",
              "      border-right-color: var(--fill-color);\n",
              "    }\n",
              "    40% {\n",
              "      border-color: transparent;\n",
              "      border-right-color: var(--fill-color);\n",
              "      border-top-color: var(--fill-color);\n",
              "    }\n",
              "    60% {\n",
              "      border-color: transparent;\n",
              "      border-right-color: var(--fill-color);\n",
              "    }\n",
              "    80% {\n",
              "      border-color: transparent;\n",
              "      border-right-color: var(--fill-color);\n",
              "      border-bottom-color: var(--fill-color);\n",
              "    }\n",
              "    90% {\n",
              "      border-color: transparent;\n",
              "      border-bottom-color: var(--fill-color);\n",
              "    }\n",
              "  }\n",
              "</style>\n",
              "\n",
              "  <script>\n",
              "    async function quickchart(key) {\n",
              "      const quickchartButtonEl =\n",
              "        document.querySelector('#' + key + ' button');\n",
              "      quickchartButtonEl.disabled = true;  // To prevent multiple clicks.\n",
              "      quickchartButtonEl.classList.add('colab-df-spinner');\n",
              "      try {\n",
              "        const charts = await google.colab.kernel.invokeFunction(\n",
              "            'suggestCharts', [key], {});\n",
              "      } catch (error) {\n",
              "        console.error('Error during call to suggestCharts:', error);\n",
              "      }\n",
              "      quickchartButtonEl.classList.remove('colab-df-spinner');\n",
              "      quickchartButtonEl.classList.add('colab-df-quickchart-complete');\n",
              "    }\n",
              "    (() => {\n",
              "      let quickchartButtonEl =\n",
              "        document.querySelector('#df-3e273386-7160-4131-9258-3b87c6dd908e button');\n",
              "      quickchartButtonEl.style.display =\n",
              "        google.colab.kernel.accessAllowed ? 'block' : 'none';\n",
              "    })();\n",
              "  </script>\n",
              "</div>\n",
              "\n",
              "    </div>\n",
              "  </div>\n"
            ],
            "application/vnd.google.colaboratory.intrinsic+json": {
              "type": "dataframe"
            }
          },
          "metadata": {},
          "execution_count": 152
        }
      ]
    },
    {
      "cell_type": "markdown",
      "source": [
        "#**3. Exploración y Feature Engineering**\n",
        "\n",
        "\n",
        "---\n"
      ],
      "metadata": {
        "id": "l4GucSUdpzW9"
      }
    },
    {
      "cell_type": "code",
      "source": [
        "# Grafico de dispersión (antes)\n",
        "plt.figure(figsize=(10, 6))\n",
        "plt.scatter(range(len(df_traffic['transactionRevenue'])), df_traffic['transactionRevenue'], alpha=0.5)\n",
        "plt.title('Gráfico de Dispersión de transactionRevenue')\n",
        "plt.xlabel('Índice')\n",
        "plt.ylabel('transactionRevenue')\n",
        "plt.show()"
      ],
      "metadata": {
        "id": "6SP13KCgCbQo",
        "colab": {
          "base_uri": "https://localhost:8080/",
          "height": 237
        },
        "outputId": "558adeae-40b4-4060-afbd-1c503df3ee2a"
      },
      "execution_count": 2,
      "outputs": [
        {
          "output_type": "error",
          "ename": "NameError",
          "evalue": "name 'df_traffic' is not defined",
          "traceback": [
            "\u001b[0;31m---------------------------------------------------------------------------\u001b[0m",
            "\u001b[0;31mNameError\u001b[0m                                 Traceback (most recent call last)",
            "\u001b[0;32m<ipython-input-2-49361e3f68b7>\u001b[0m in \u001b[0;36m<cell line: 3>\u001b[0;34m()\u001b[0m\n\u001b[1;32m      1\u001b[0m \u001b[0;31m# Grafico de dispersión (antes)\u001b[0m\u001b[0;34m\u001b[0m\u001b[0;34m\u001b[0m\u001b[0m\n\u001b[1;32m      2\u001b[0m \u001b[0mplt\u001b[0m\u001b[0;34m.\u001b[0m\u001b[0mfigure\u001b[0m\u001b[0;34m(\u001b[0m\u001b[0mfigsize\u001b[0m\u001b[0;34m=\u001b[0m\u001b[0;34m(\u001b[0m\u001b[0;36m10\u001b[0m\u001b[0;34m,\u001b[0m \u001b[0;36m6\u001b[0m\u001b[0;34m)\u001b[0m\u001b[0;34m)\u001b[0m\u001b[0;34m\u001b[0m\u001b[0;34m\u001b[0m\u001b[0m\n\u001b[0;32m----> 3\u001b[0;31m \u001b[0mplt\u001b[0m\u001b[0;34m.\u001b[0m\u001b[0mscatter\u001b[0m\u001b[0;34m(\u001b[0m\u001b[0mrange\u001b[0m\u001b[0;34m(\u001b[0m\u001b[0mlen\u001b[0m\u001b[0;34m(\u001b[0m\u001b[0mdf_traffic\u001b[0m\u001b[0;34m[\u001b[0m\u001b[0;34m'transactionRevenue'\u001b[0m\u001b[0;34m]\u001b[0m\u001b[0;34m)\u001b[0m\u001b[0;34m)\u001b[0m\u001b[0;34m,\u001b[0m \u001b[0mdf_traffic\u001b[0m\u001b[0;34m[\u001b[0m\u001b[0;34m'transactionRevenue'\u001b[0m\u001b[0;34m]\u001b[0m\u001b[0;34m,\u001b[0m \u001b[0malpha\u001b[0m\u001b[0;34m=\u001b[0m\u001b[0;36m0.5\u001b[0m\u001b[0;34m)\u001b[0m\u001b[0;34m\u001b[0m\u001b[0;34m\u001b[0m\u001b[0m\n\u001b[0m\u001b[1;32m      4\u001b[0m \u001b[0mplt\u001b[0m\u001b[0;34m.\u001b[0m\u001b[0mtitle\u001b[0m\u001b[0;34m(\u001b[0m\u001b[0;34m'Gráfico de Dispersión de transactionRevenue'\u001b[0m\u001b[0;34m)\u001b[0m\u001b[0;34m\u001b[0m\u001b[0;34m\u001b[0m\u001b[0m\n\u001b[1;32m      5\u001b[0m \u001b[0mplt\u001b[0m\u001b[0;34m.\u001b[0m\u001b[0mxlabel\u001b[0m\u001b[0;34m(\u001b[0m\u001b[0;34m'Índice'\u001b[0m\u001b[0;34m)\u001b[0m\u001b[0;34m\u001b[0m\u001b[0;34m\u001b[0m\u001b[0m\n",
            "\u001b[0;31mNameError\u001b[0m: name 'df_traffic' is not defined"
          ]
        },
        {
          "output_type": "display_data",
          "data": {
            "text/plain": [
              "<Figure size 1000x600 with 0 Axes>"
            ]
          },
          "metadata": {}
        }
      ]
    },
    {
      "cell_type": "code",
      "source": [
        "sns.boxplot(df_traffic.transactionRevenue)"
      ],
      "metadata": {
        "id": "Z_gijFMDycFw"
      },
      "execution_count": null,
      "outputs": []
    },
    {
      "cell_type": "code",
      "source": [
        "df_traffic.describe()"
      ],
      "metadata": {
        "id": "_DgK3Q8l9EGN"
      },
      "execution_count": null,
      "outputs": []
    },
    {
      "cell_type": "code",
      "source": [
        "conteo = df_traffic['transactionRevenue'].value_counts().sort_values(ascending=False)\n",
        "conteo"
      ],
      "metadata": {
        "id": "SwcdLJbi1oST"
      },
      "execution_count": null,
      "outputs": []
    },
    {
      "cell_type": "code",
      "source": [
        "#Histograma (antes)\n",
        "ax = sns.histplot(data=df_traffic, x='transactionRevenue', kde=False)\n",
        "ax.set_title('Histograma de transactionRevenue')\n",
        "ax.set_xlabel('transactionRevenue');"
      ],
      "metadata": {
        "id": "-TFz8n445meS"
      },
      "execution_count": null,
      "outputs": []
    },
    {
      "cell_type": "code",
      "execution_count": null,
      "metadata": {
        "id": "jxWu6tYmyYoi"
      },
      "outputs": [],
      "source": [
        "feature_engineering()\n",
        "df_traffic.sample(5)"
      ]
    },
    {
      "cell_type": "code",
      "execution_count": null,
      "metadata": {
        "id": "beYPspc7yiwV",
        "jupyter": {
          "outputs_hidden": true
        }
      },
      "outputs": [],
      "source": [
        "df_traffic.info()"
      ]
    },
    {
      "cell_type": "code",
      "source": [
        "#test"
      ],
      "metadata": {
        "id": "Odm6OxBXSCY7"
      },
      "execution_count": null,
      "outputs": []
    },
    {
      "cell_type": "code",
      "source": [
        "plt.figure(figsize=(30, 10))\n",
        "heatmap = sns.heatmap(df_traffic.corr(numeric_only=True), annot=True, cmap='coolwarm', fmt=\".2f\")\n",
        "heatmap.tick_params(axis='both', which='major', labelsize=14)\n",
        "plt.title('Mapa de Calor de Correlaciones', fontsize=18)\n",
        "plt.show()"
      ],
      "metadata": {
        "id": "zi3SIPOUlMBW",
        "colab": {
          "base_uri": "https://localhost:8080/",
          "height": 237
        },
        "outputId": "0a338c36-9f3a-4b3d-f8ea-6f888584b711"
      },
      "execution_count": 3,
      "outputs": [
        {
          "output_type": "error",
          "ename": "NameError",
          "evalue": "name 'df_traffic' is not defined",
          "traceback": [
            "\u001b[0;31m---------------------------------------------------------------------------\u001b[0m",
            "\u001b[0;31mNameError\u001b[0m                                 Traceback (most recent call last)",
            "\u001b[0;32m<ipython-input-3-a6d7cbae9fdf>\u001b[0m in \u001b[0;36m<cell line: 2>\u001b[0;34m()\u001b[0m\n\u001b[1;32m      1\u001b[0m \u001b[0mplt\u001b[0m\u001b[0;34m.\u001b[0m\u001b[0mfigure\u001b[0m\u001b[0;34m(\u001b[0m\u001b[0mfigsize\u001b[0m\u001b[0;34m=\u001b[0m\u001b[0;34m(\u001b[0m\u001b[0;36m30\u001b[0m\u001b[0;34m,\u001b[0m \u001b[0;36m10\u001b[0m\u001b[0;34m)\u001b[0m\u001b[0;34m)\u001b[0m\u001b[0;34m\u001b[0m\u001b[0;34m\u001b[0m\u001b[0m\n\u001b[0;32m----> 2\u001b[0;31m \u001b[0mheatmap\u001b[0m \u001b[0;34m=\u001b[0m \u001b[0msns\u001b[0m\u001b[0;34m.\u001b[0m\u001b[0mheatmap\u001b[0m\u001b[0;34m(\u001b[0m\u001b[0mdf_traffic\u001b[0m\u001b[0;34m.\u001b[0m\u001b[0mcorr\u001b[0m\u001b[0;34m(\u001b[0m\u001b[0mnumeric_only\u001b[0m\u001b[0;34m=\u001b[0m\u001b[0;32mTrue\u001b[0m\u001b[0;34m)\u001b[0m\u001b[0;34m,\u001b[0m \u001b[0mannot\u001b[0m\u001b[0;34m=\u001b[0m\u001b[0;32mTrue\u001b[0m\u001b[0;34m,\u001b[0m \u001b[0mcmap\u001b[0m\u001b[0;34m=\u001b[0m\u001b[0;34m'coolwarm'\u001b[0m\u001b[0;34m,\u001b[0m \u001b[0mfmt\u001b[0m\u001b[0;34m=\u001b[0m\u001b[0;34m\".2f\"\u001b[0m\u001b[0;34m)\u001b[0m\u001b[0;34m\u001b[0m\u001b[0;34m\u001b[0m\u001b[0m\n\u001b[0m\u001b[1;32m      3\u001b[0m \u001b[0mheatmap\u001b[0m\u001b[0;34m.\u001b[0m\u001b[0mtick_params\u001b[0m\u001b[0;34m(\u001b[0m\u001b[0maxis\u001b[0m\u001b[0;34m=\u001b[0m\u001b[0;34m'both'\u001b[0m\u001b[0;34m,\u001b[0m \u001b[0mwhich\u001b[0m\u001b[0;34m=\u001b[0m\u001b[0;34m'major'\u001b[0m\u001b[0;34m,\u001b[0m \u001b[0mlabelsize\u001b[0m\u001b[0;34m=\u001b[0m\u001b[0;36m14\u001b[0m\u001b[0;34m)\u001b[0m\u001b[0;34m\u001b[0m\u001b[0;34m\u001b[0m\u001b[0m\n\u001b[1;32m      4\u001b[0m \u001b[0mplt\u001b[0m\u001b[0;34m.\u001b[0m\u001b[0mtitle\u001b[0m\u001b[0;34m(\u001b[0m\u001b[0;34m'Mapa de Calor de Correlaciones'\u001b[0m\u001b[0;34m,\u001b[0m \u001b[0mfontsize\u001b[0m\u001b[0;34m=\u001b[0m\u001b[0;36m18\u001b[0m\u001b[0;34m)\u001b[0m\u001b[0;34m\u001b[0m\u001b[0;34m\u001b[0m\u001b[0m\n\u001b[1;32m      5\u001b[0m \u001b[0mplt\u001b[0m\u001b[0;34m.\u001b[0m\u001b[0mshow\u001b[0m\u001b[0;34m(\u001b[0m\u001b[0;34m)\u001b[0m\u001b[0;34m\u001b[0m\u001b[0;34m\u001b[0m\u001b[0m\n",
            "\u001b[0;31mNameError\u001b[0m: name 'df_traffic' is not defined"
          ]
        },
        {
          "output_type": "display_data",
          "data": {
            "text/plain": [
              "<Figure size 3000x1000 with 0 Axes>"
            ]
          },
          "metadata": {}
        }
      ]
    },
    {
      "cell_type": "markdown",
      "metadata": {
        "id": "wRH2u-dX7WzM"
      },
      "source": [
        "#**4. Construcción de Modelos**\n",
        "\n",
        "\n",
        "---\n"
      ]
    },
    {
      "cell_type": "code",
      "source": [
        "crea_modelos()\n",
        "for i, model in enumerate(resultados['Model']):\n",
        "    print('-------------------------------')\n",
        "    print(f\"Modelo: {model}\")\n",
        "    print(f\"R-cuadrado (R²): {resultados['R2'][i]}\")\n",
        "    print(f\"Error cuadrático medio (MSE): {resultados['MSE'][i]}\")\n",
        "    print(f\"Raíz del error cuadrático medio (RMSE): {resultados['RMSE'][i]}\")\n",
        "    print('-------------------------------')"
      ],
      "metadata": {
        "id": "1wZ8Xmhcxktr",
        "colab": {
          "base_uri": "https://localhost:8080/",
          "height": 219
        },
        "outputId": "47448e0d-0a91-4fe0-fdf3-419f782259ee"
      },
      "execution_count": null,
      "outputs": [
        {
          "output_type": "error",
          "ename": "NameError",
          "evalue": "name 'crea_modelos' is not defined",
          "traceback": [
            "\u001b[0;31m---------------------------------------------------------------------------\u001b[0m",
            "\u001b[0;31mNameError\u001b[0m                                 Traceback (most recent call last)",
            "\u001b[0;32m<ipython-input-157-1d30fa516a91>\u001b[0m in \u001b[0;36m<cell line: 1>\u001b[0;34m()\u001b[0m\n\u001b[0;32m----> 1\u001b[0;31m \u001b[0mcrea_modelos\u001b[0m\u001b[0;34m(\u001b[0m\u001b[0;34m)\u001b[0m\u001b[0;34m\u001b[0m\u001b[0;34m\u001b[0m\u001b[0m\n\u001b[0m\u001b[1;32m      2\u001b[0m \u001b[0;32mfor\u001b[0m \u001b[0mi\u001b[0m\u001b[0;34m,\u001b[0m \u001b[0mmodel\u001b[0m \u001b[0;32min\u001b[0m \u001b[0menumerate\u001b[0m\u001b[0;34m(\u001b[0m\u001b[0mresultados\u001b[0m\u001b[0;34m[\u001b[0m\u001b[0;34m'Model'\u001b[0m\u001b[0;34m]\u001b[0m\u001b[0;34m)\u001b[0m\u001b[0;34m:\u001b[0m\u001b[0;34m\u001b[0m\u001b[0;34m\u001b[0m\u001b[0m\n\u001b[1;32m      3\u001b[0m     \u001b[0mprint\u001b[0m\u001b[0;34m(\u001b[0m\u001b[0;34m'-------------------------------'\u001b[0m\u001b[0;34m)\u001b[0m\u001b[0;34m\u001b[0m\u001b[0;34m\u001b[0m\u001b[0m\n\u001b[1;32m      4\u001b[0m     \u001b[0mprint\u001b[0m\u001b[0;34m(\u001b[0m\u001b[0;34mf\"Modelo: {model}\"\u001b[0m\u001b[0;34m)\u001b[0m\u001b[0;34m\u001b[0m\u001b[0;34m\u001b[0m\u001b[0m\n\u001b[1;32m      5\u001b[0m     \u001b[0mprint\u001b[0m\u001b[0;34m(\u001b[0m\u001b[0;34mf\"R-cuadrado (R²): {resultados['R2'][i]}\"\u001b[0m\u001b[0;34m)\u001b[0m\u001b[0;34m\u001b[0m\u001b[0;34m\u001b[0m\u001b[0m\n",
            "\u001b[0;31mNameError\u001b[0m: name 'crea_modelos' is not defined"
          ]
        }
      ]
    },
    {
      "cell_type": "markdown",
      "source": [
        "#**5. Evaluación y Selección del Modelo**\n",
        "\n",
        "\n",
        "---\n"
      ],
      "metadata": {
        "id": "7y5Llo_mx9Cz"
      }
    },
    {
      "cell_type": "code",
      "source": [
        "visualiza_resultados()"
      ],
      "metadata": {
        "id": "gFr-RQXtyJUo",
        "colab": {
          "base_uri": "https://localhost:8080/",
          "height": 146
        },
        "outputId": "2ae04492-5c04-483c-ea2c-a4de58afe071"
      },
      "execution_count": null,
      "outputs": [
        {
          "output_type": "error",
          "ename": "NameError",
          "evalue": "name 'visualiza_resultados' is not defined",
          "traceback": [
            "\u001b[0;31m---------------------------------------------------------------------------\u001b[0m",
            "\u001b[0;31mNameError\u001b[0m                                 Traceback (most recent call last)",
            "\u001b[0;32m<ipython-input-158-cb3893877e8e>\u001b[0m in \u001b[0;36m<cell line: 1>\u001b[0;34m()\u001b[0m\n\u001b[0;32m----> 1\u001b[0;31m \u001b[0mvisualiza_resultados\u001b[0m\u001b[0;34m(\u001b[0m\u001b[0;34m)\u001b[0m\u001b[0;34m\u001b[0m\u001b[0;34m\u001b[0m\u001b[0m\n\u001b[0m",
            "\u001b[0;31mNameError\u001b[0m: name 'visualiza_resultados' is not defined"
          ]
        }
      ]
    },
    {
      "cell_type": "markdown",
      "source": [
        "#**6. Producción**\n",
        "\n",
        "\n",
        "---\n"
      ],
      "metadata": {
        "id": "jcSLZs21QeUk"
      }
    },
    {
      "cell_type": "code",
      "source": [
        "#Cargar base de prueba y ejecutar normalización utilizada en nuestro modelo\n",
        "df_traffic = pd.read_csv('https://raw.githubusercontent.com/ElProfeAlejo/Bootcamp_Databases/main/traffic_test.csv', dtype={'date':object,'fullVisitorId':object,'visitId':object})\n",
        "preprocesamiento()\n",
        "feature_engineering()\n",
        "\n",
        "#Cargar el modelo entrenado\n",
        "wget.download('https://raw.githubusercontent.com/ElProfeAlejo/Bootcamp_Databases/main/modelo.joblib', 'modelo.joblib')\n",
        "modelo = load('modelo.joblib')\n",
        "wget.download('https://raw.githubusercontent.com/ElProfeAlejo/Bootcamp_Databases/main/modelo_clasificacion.joblib', 'modelo_clasificacion.joblib')\n",
        "modelo_clasificacion = load('modelo_clasificacion.joblib')\n",
        "\n",
        "#Pronosticar con la nueva base\n",
        "X = df_traffic.drop('transactionRevenue',axis=1)\n",
        "X['clasificacion'] = modelo_clasificacion.predict(X)\n",
        "y = df_traffic.transactionRevenue.copy()\n",
        "predictions = modelo.predict(xgb.DMatrix(X))\n",
        "predictions[predictions < 1] = 0\n",
        "\n",
        "#Genera algunas métricas de evaluación de los pronosticos\n",
        "r2 = r2_score(y, predictions)*100\n",
        "mse = mean_squared_error(y, predictions)\n",
        "rmse = np.sqrt(mse)\n",
        "print(f\"R-cuadrado (R²): {r2}\")\n",
        "print(f\"Error cuadrático medio (MSE): {mse}\")\n",
        "print(f\"Raíz del error cuadrático medio (RMSE): {rmse}\")"
      ],
      "metadata": {
        "id": "3BQ6ZU-SQj06",
        "colab": {
          "base_uri": "https://localhost:8080/",
          "height": 388
        },
        "outputId": "119c71e4-11fd-49c2-db98-eb55394368aa"
      },
      "execution_count": null,
      "outputs": [
        {
          "output_type": "error",
          "ename": "KeyError",
          "evalue": "\"['campaignCode'] not found in axis\"",
          "traceback": [
            "\u001b[0;31m---------------------------------------------------------------------------\u001b[0m",
            "\u001b[0;31mKeyError\u001b[0m                                  Traceback (most recent call last)",
            "\u001b[0;32m<ipython-input-159-9d11f0e130a0>\u001b[0m in \u001b[0;36m<cell line: 3>\u001b[0;34m()\u001b[0m\n\u001b[1;32m      1\u001b[0m \u001b[0;31m#Cargar base de prueba y ejecutar normalización utilizada en nuestro modelo\u001b[0m\u001b[0;34m\u001b[0m\u001b[0;34m\u001b[0m\u001b[0m\n\u001b[1;32m      2\u001b[0m \u001b[0mdf_traffic\u001b[0m \u001b[0;34m=\u001b[0m \u001b[0mpd\u001b[0m\u001b[0;34m.\u001b[0m\u001b[0mread_csv\u001b[0m\u001b[0;34m(\u001b[0m\u001b[0;34m'https://raw.githubusercontent.com/ElProfeAlejo/Bootcamp_Databases/main/traffic_test.csv'\u001b[0m\u001b[0;34m,\u001b[0m \u001b[0mdtype\u001b[0m\u001b[0;34m=\u001b[0m\u001b[0;34m{\u001b[0m\u001b[0;34m'date'\u001b[0m\u001b[0;34m:\u001b[0m\u001b[0mobject\u001b[0m\u001b[0;34m,\u001b[0m\u001b[0;34m'fullVisitorId'\u001b[0m\u001b[0;34m:\u001b[0m\u001b[0mobject\u001b[0m\u001b[0;34m,\u001b[0m\u001b[0;34m'visitId'\u001b[0m\u001b[0;34m:\u001b[0m\u001b[0mobject\u001b[0m\u001b[0;34m}\u001b[0m\u001b[0;34m)\u001b[0m\u001b[0;34m\u001b[0m\u001b[0;34m\u001b[0m\u001b[0m\n\u001b[0;32m----> 3\u001b[0;31m \u001b[0mpreprocesamiento\u001b[0m\u001b[0;34m(\u001b[0m\u001b[0;34m)\u001b[0m\u001b[0;34m\u001b[0m\u001b[0;34m\u001b[0m\u001b[0m\n\u001b[0m\u001b[1;32m      4\u001b[0m \u001b[0mfeature_engineering\u001b[0m\u001b[0;34m(\u001b[0m\u001b[0;34m)\u001b[0m\u001b[0;34m\u001b[0m\u001b[0;34m\u001b[0m\u001b[0m\n\u001b[1;32m      5\u001b[0m \u001b[0;34m\u001b[0m\u001b[0m\n",
            "\u001b[0;32m<ipython-input-132-ea890d0e7d28>\u001b[0m in \u001b[0;36mpreprocesamiento\u001b[0;34m()\u001b[0m\n\u001b[1;32m     14\u001b[0m \u001b[0;34m\u001b[0m\u001b[0m\n\u001b[1;32m     15\u001b[0m     \u001b[0;31m#Eliminar las columnas que no requerimos\u001b[0m\u001b[0;34m\u001b[0m\u001b[0;34m\u001b[0m\u001b[0m\n\u001b[0;32m---> 16\u001b[0;31m     \u001b[0mdf_traffic\u001b[0m\u001b[0;34m=\u001b[0m \u001b[0mdf_traffic\u001b[0m\u001b[0;34m.\u001b[0m\u001b[0mdrop\u001b[0m\u001b[0;34m(\u001b[0m\u001b[0mcolumns\u001b[0m\u001b[0;34m=\u001b[0m\u001b[0;34m[\u001b[0m\u001b[0;34m'socialEngagementType'\u001b[0m\u001b[0;34m,\u001b[0m\u001b[0;34m'browserVersion'\u001b[0m\u001b[0;34m,\u001b[0m\u001b[0;34m'browserSize'\u001b[0m\u001b[0;34m,\u001b[0m\u001b[0;34m'operatingSystemVersion'\u001b[0m\u001b[0;34m,\u001b[0m\u001b[0;34m'mobileDeviceBranding'\u001b[0m\u001b[0;34m,\u001b[0m\u001b[0;34m'mobileDeviceModel'\u001b[0m\u001b[0;34m,\u001b[0m\u001b[0;34m'mobileInputSelector'\u001b[0m\u001b[0;34m,\u001b[0m\u001b[0;34m'mobileDeviceInfo'\u001b[0m\u001b[0;34m,\u001b[0m\u001b[0;34m'mobileDeviceMarketingName'\u001b[0m\u001b[0;34m,\u001b[0m\u001b[0;34m'flashVersion'\u001b[0m\u001b[0;34m,\u001b[0m\u001b[0;34m'language'\u001b[0m\u001b[0;34m,\u001b[0m\u001b[0;34m'screenColors'\u001b[0m\u001b[0;34m,\u001b[0m\u001b[0;34m'screenResolution'\u001b[0m\u001b[0;34m,\u001b[0m\u001b[0;34m'continent'\u001b[0m\u001b[0;34m,\u001b[0m\u001b[0;34m'subContinent'\u001b[0m\u001b[0;34m,\u001b[0m\u001b[0;34m'country'\u001b[0m\u001b[0;34m,\u001b[0m\u001b[0;34m'region'\u001b[0m\u001b[0;34m,\u001b[0m\u001b[0;34m'cityId'\u001b[0m\u001b[0;34m,\u001b[0m\u001b[0;34m'latitude'\u001b[0m\u001b[0;34m,\u001b[0m\u001b[0;34m'longitude'\u001b[0m\u001b[0;34m,\u001b[0m\u001b[0;34m'networkLocation'\u001b[0m\u001b[0;34m,\u001b[0m\u001b[0;34m'keyword'\u001b[0m\u001b[0;34m,\u001b[0m\u001b[0;34m'adwordsClickInfo'\u001b[0m\u001b[0;34m,\u001b[0m\u001b[0;34m'isTrueDirect'\u001b[0m\u001b[0;34m,\u001b[0m\u001b[0;34m'adContent'\u001b[0m\u001b[0;34m,\u001b[0m\u001b[0;34m'campaignCode'\u001b[0m\u001b[0;34m,\u001b[0m\u001b[0;34m'networkDomain'\u001b[0m\u001b[0;34m,\u001b[0m\u001b[0;34m'visits'\u001b[0m\u001b[0;34m]\u001b[0m\u001b[0;34m)\u001b[0m\u001b[0;34m\u001b[0m\u001b[0;34m\u001b[0m\u001b[0m\n\u001b[0m\u001b[1;32m     17\u001b[0m \u001b[0;34m\u001b[0m\u001b[0m\n\u001b[1;32m     18\u001b[0m     \u001b[0;31m# Eliminar duplicados\u001b[0m\u001b[0;34m\u001b[0m\u001b[0;34m\u001b[0m\u001b[0m\n",
            "\u001b[0;32m/usr/local/lib/python3.10/dist-packages/pandas/util/_decorators.py\u001b[0m in \u001b[0;36mwrapper\u001b[0;34m(*args, **kwargs)\u001b[0m\n\u001b[1;32m    329\u001b[0m                     \u001b[0mstacklevel\u001b[0m\u001b[0;34m=\u001b[0m\u001b[0mfind_stack_level\u001b[0m\u001b[0;34m(\u001b[0m\u001b[0;34m)\u001b[0m\u001b[0;34m,\u001b[0m\u001b[0;34m\u001b[0m\u001b[0;34m\u001b[0m\u001b[0m\n\u001b[1;32m    330\u001b[0m                 )\n\u001b[0;32m--> 331\u001b[0;31m             \u001b[0;32mreturn\u001b[0m \u001b[0mfunc\u001b[0m\u001b[0;34m(\u001b[0m\u001b[0;34m*\u001b[0m\u001b[0margs\u001b[0m\u001b[0;34m,\u001b[0m \u001b[0;34m**\u001b[0m\u001b[0mkwargs\u001b[0m\u001b[0;34m)\u001b[0m\u001b[0;34m\u001b[0m\u001b[0;34m\u001b[0m\u001b[0m\n\u001b[0m\u001b[1;32m    332\u001b[0m \u001b[0;34m\u001b[0m\u001b[0m\n\u001b[1;32m    333\u001b[0m         \u001b[0;31m# error: \"Callable[[VarArg(Any), KwArg(Any)], Any]\" has no\u001b[0m\u001b[0;34m\u001b[0m\u001b[0;34m\u001b[0m\u001b[0m\n",
            "\u001b[0;32m/usr/local/lib/python3.10/dist-packages/pandas/core/frame.py\u001b[0m in \u001b[0;36mdrop\u001b[0;34m(self, labels, axis, index, columns, level, inplace, errors)\u001b[0m\n\u001b[1;32m   5397\u001b[0m                 \u001b[0mweight\u001b[0m  \u001b[0;36m1.0\u001b[0m     \u001b[0;36m0.8\u001b[0m\u001b[0;34m\u001b[0m\u001b[0;34m\u001b[0m\u001b[0m\n\u001b[1;32m   5398\u001b[0m         \"\"\"\n\u001b[0;32m-> 5399\u001b[0;31m         return super().drop(\n\u001b[0m\u001b[1;32m   5400\u001b[0m             \u001b[0mlabels\u001b[0m\u001b[0;34m=\u001b[0m\u001b[0mlabels\u001b[0m\u001b[0;34m,\u001b[0m\u001b[0;34m\u001b[0m\u001b[0;34m\u001b[0m\u001b[0m\n\u001b[1;32m   5401\u001b[0m             \u001b[0maxis\u001b[0m\u001b[0;34m=\u001b[0m\u001b[0maxis\u001b[0m\u001b[0;34m,\u001b[0m\u001b[0;34m\u001b[0m\u001b[0;34m\u001b[0m\u001b[0m\n",
            "\u001b[0;32m/usr/local/lib/python3.10/dist-packages/pandas/util/_decorators.py\u001b[0m in \u001b[0;36mwrapper\u001b[0;34m(*args, **kwargs)\u001b[0m\n\u001b[1;32m    329\u001b[0m                     \u001b[0mstacklevel\u001b[0m\u001b[0;34m=\u001b[0m\u001b[0mfind_stack_level\u001b[0m\u001b[0;34m(\u001b[0m\u001b[0;34m)\u001b[0m\u001b[0;34m,\u001b[0m\u001b[0;34m\u001b[0m\u001b[0;34m\u001b[0m\u001b[0m\n\u001b[1;32m    330\u001b[0m                 )\n\u001b[0;32m--> 331\u001b[0;31m             \u001b[0;32mreturn\u001b[0m \u001b[0mfunc\u001b[0m\u001b[0;34m(\u001b[0m\u001b[0;34m*\u001b[0m\u001b[0margs\u001b[0m\u001b[0;34m,\u001b[0m \u001b[0;34m**\u001b[0m\u001b[0mkwargs\u001b[0m\u001b[0;34m)\u001b[0m\u001b[0;34m\u001b[0m\u001b[0;34m\u001b[0m\u001b[0m\n\u001b[0m\u001b[1;32m    332\u001b[0m \u001b[0;34m\u001b[0m\u001b[0m\n\u001b[1;32m    333\u001b[0m         \u001b[0;31m# error: \"Callable[[VarArg(Any), KwArg(Any)], Any]\" has no\u001b[0m\u001b[0;34m\u001b[0m\u001b[0;34m\u001b[0m\u001b[0m\n",
            "\u001b[0;32m/usr/local/lib/python3.10/dist-packages/pandas/core/generic.py\u001b[0m in \u001b[0;36mdrop\u001b[0;34m(self, labels, axis, index, columns, level, inplace, errors)\u001b[0m\n\u001b[1;32m   4503\u001b[0m         \u001b[0;32mfor\u001b[0m \u001b[0maxis\u001b[0m\u001b[0;34m,\u001b[0m \u001b[0mlabels\u001b[0m \u001b[0;32min\u001b[0m \u001b[0maxes\u001b[0m\u001b[0;34m.\u001b[0m\u001b[0mitems\u001b[0m\u001b[0;34m(\u001b[0m\u001b[0;34m)\u001b[0m\u001b[0;34m:\u001b[0m\u001b[0;34m\u001b[0m\u001b[0;34m\u001b[0m\u001b[0m\n\u001b[1;32m   4504\u001b[0m             \u001b[0;32mif\u001b[0m \u001b[0mlabels\u001b[0m \u001b[0;32mis\u001b[0m \u001b[0;32mnot\u001b[0m \u001b[0;32mNone\u001b[0m\u001b[0;34m:\u001b[0m\u001b[0;34m\u001b[0m\u001b[0;34m\u001b[0m\u001b[0m\n\u001b[0;32m-> 4505\u001b[0;31m                 \u001b[0mobj\u001b[0m \u001b[0;34m=\u001b[0m \u001b[0mobj\u001b[0m\u001b[0;34m.\u001b[0m\u001b[0m_drop_axis\u001b[0m\u001b[0;34m(\u001b[0m\u001b[0mlabels\u001b[0m\u001b[0;34m,\u001b[0m \u001b[0maxis\u001b[0m\u001b[0;34m,\u001b[0m \u001b[0mlevel\u001b[0m\u001b[0;34m=\u001b[0m\u001b[0mlevel\u001b[0m\u001b[0;34m,\u001b[0m \u001b[0merrors\u001b[0m\u001b[0;34m=\u001b[0m\u001b[0merrors\u001b[0m\u001b[0;34m)\u001b[0m\u001b[0;34m\u001b[0m\u001b[0;34m\u001b[0m\u001b[0m\n\u001b[0m\u001b[1;32m   4506\u001b[0m \u001b[0;34m\u001b[0m\u001b[0m\n\u001b[1;32m   4507\u001b[0m         \u001b[0;32mif\u001b[0m \u001b[0minplace\u001b[0m\u001b[0;34m:\u001b[0m\u001b[0;34m\u001b[0m\u001b[0;34m\u001b[0m\u001b[0m\n",
            "\u001b[0;32m/usr/local/lib/python3.10/dist-packages/pandas/core/generic.py\u001b[0m in \u001b[0;36m_drop_axis\u001b[0;34m(self, labels, axis, level, errors, only_slice)\u001b[0m\n\u001b[1;32m   4544\u001b[0m                 \u001b[0mnew_axis\u001b[0m \u001b[0;34m=\u001b[0m \u001b[0maxis\u001b[0m\u001b[0;34m.\u001b[0m\u001b[0mdrop\u001b[0m\u001b[0;34m(\u001b[0m\u001b[0mlabels\u001b[0m\u001b[0;34m,\u001b[0m \u001b[0mlevel\u001b[0m\u001b[0;34m=\u001b[0m\u001b[0mlevel\u001b[0m\u001b[0;34m,\u001b[0m \u001b[0merrors\u001b[0m\u001b[0;34m=\u001b[0m\u001b[0merrors\u001b[0m\u001b[0;34m)\u001b[0m\u001b[0;34m\u001b[0m\u001b[0;34m\u001b[0m\u001b[0m\n\u001b[1;32m   4545\u001b[0m             \u001b[0;32melse\u001b[0m\u001b[0;34m:\u001b[0m\u001b[0;34m\u001b[0m\u001b[0;34m\u001b[0m\u001b[0m\n\u001b[0;32m-> 4546\u001b[0;31m                 \u001b[0mnew_axis\u001b[0m \u001b[0;34m=\u001b[0m \u001b[0maxis\u001b[0m\u001b[0;34m.\u001b[0m\u001b[0mdrop\u001b[0m\u001b[0;34m(\u001b[0m\u001b[0mlabels\u001b[0m\u001b[0;34m,\u001b[0m \u001b[0merrors\u001b[0m\u001b[0;34m=\u001b[0m\u001b[0merrors\u001b[0m\u001b[0;34m)\u001b[0m\u001b[0;34m\u001b[0m\u001b[0;34m\u001b[0m\u001b[0m\n\u001b[0m\u001b[1;32m   4547\u001b[0m             \u001b[0mindexer\u001b[0m \u001b[0;34m=\u001b[0m \u001b[0maxis\u001b[0m\u001b[0;34m.\u001b[0m\u001b[0mget_indexer\u001b[0m\u001b[0;34m(\u001b[0m\u001b[0mnew_axis\u001b[0m\u001b[0;34m)\u001b[0m\u001b[0;34m\u001b[0m\u001b[0;34m\u001b[0m\u001b[0m\n\u001b[1;32m   4548\u001b[0m \u001b[0;34m\u001b[0m\u001b[0m\n",
            "\u001b[0;32m/usr/local/lib/python3.10/dist-packages/pandas/core/indexes/base.py\u001b[0m in \u001b[0;36mdrop\u001b[0;34m(self, labels, errors)\u001b[0m\n\u001b[1;32m   6932\u001b[0m         \u001b[0;32mif\u001b[0m \u001b[0mmask\u001b[0m\u001b[0;34m.\u001b[0m\u001b[0many\u001b[0m\u001b[0;34m(\u001b[0m\u001b[0;34m)\u001b[0m\u001b[0;34m:\u001b[0m\u001b[0;34m\u001b[0m\u001b[0;34m\u001b[0m\u001b[0m\n\u001b[1;32m   6933\u001b[0m             \u001b[0;32mif\u001b[0m \u001b[0merrors\u001b[0m \u001b[0;34m!=\u001b[0m \u001b[0;34m\"ignore\"\u001b[0m\u001b[0;34m:\u001b[0m\u001b[0;34m\u001b[0m\u001b[0;34m\u001b[0m\u001b[0m\n\u001b[0;32m-> 6934\u001b[0;31m                 \u001b[0;32mraise\u001b[0m \u001b[0mKeyError\u001b[0m\u001b[0;34m(\u001b[0m\u001b[0;34mf\"{list(labels[mask])} not found in axis\"\u001b[0m\u001b[0;34m)\u001b[0m\u001b[0;34m\u001b[0m\u001b[0;34m\u001b[0m\u001b[0m\n\u001b[0m\u001b[1;32m   6935\u001b[0m             \u001b[0mindexer\u001b[0m \u001b[0;34m=\u001b[0m \u001b[0mindexer\u001b[0m\u001b[0;34m[\u001b[0m\u001b[0;34m~\u001b[0m\u001b[0mmask\u001b[0m\u001b[0;34m]\u001b[0m\u001b[0;34m\u001b[0m\u001b[0;34m\u001b[0m\u001b[0m\n\u001b[1;32m   6936\u001b[0m         \u001b[0;32mreturn\u001b[0m \u001b[0mself\u001b[0m\u001b[0;34m.\u001b[0m\u001b[0mdelete\u001b[0m\u001b[0;34m(\u001b[0m\u001b[0mindexer\u001b[0m\u001b[0;34m)\u001b[0m\u001b[0;34m\u001b[0m\u001b[0;34m\u001b[0m\u001b[0m\n",
            "\u001b[0;31mKeyError\u001b[0m: \"['campaignCode'] not found in axis\""
          ]
        }
      ]
    },
    {
      "cell_type": "code",
      "source": [
        "#Ejemplos de los pronósticos\n",
        "df_resultados = pd.DataFrame({\n",
        "    'transactionRevenue': y,\n",
        "    'predictions': predictions\n",
        "})\n",
        "df_resultados[df_resultados.transactionRevenue>0].sample(10)"
      ],
      "metadata": {
        "id": "GOig4YgTzbGw",
        "colab": {
          "base_uri": "https://localhost:8080/",
          "height": 219
        },
        "outputId": "536efe1c-a82a-4fd6-b173-ff093f40e8d9"
      },
      "execution_count": null,
      "outputs": [
        {
          "output_type": "error",
          "ename": "NameError",
          "evalue": "name 'y' is not defined",
          "traceback": [
            "\u001b[0;31m---------------------------------------------------------------------------\u001b[0m",
            "\u001b[0;31mNameError\u001b[0m                                 Traceback (most recent call last)",
            "\u001b[0;32m<ipython-input-160-ab74c8d2195b>\u001b[0m in \u001b[0;36m<cell line: 2>\u001b[0;34m()\u001b[0m\n\u001b[1;32m      1\u001b[0m \u001b[0;31m#Ejemplos de los pronósticos\u001b[0m\u001b[0;34m\u001b[0m\u001b[0;34m\u001b[0m\u001b[0m\n\u001b[1;32m      2\u001b[0m df_resultados = pd.DataFrame({\n\u001b[0;32m----> 3\u001b[0;31m     \u001b[0;34m'transactionRevenue'\u001b[0m\u001b[0;34m:\u001b[0m \u001b[0my\u001b[0m\u001b[0;34m,\u001b[0m\u001b[0;34m\u001b[0m\u001b[0;34m\u001b[0m\u001b[0m\n\u001b[0m\u001b[1;32m      4\u001b[0m     \u001b[0;34m'predictions'\u001b[0m\u001b[0;34m:\u001b[0m \u001b[0mpredictions\u001b[0m\u001b[0;34m\u001b[0m\u001b[0;34m\u001b[0m\u001b[0m\n\u001b[1;32m      5\u001b[0m })\n",
            "\u001b[0;31mNameError\u001b[0m: name 'y' is not defined"
          ]
        }
      ]
    }
  ],
  "metadata": {
    "colab": {
      "provenance": [],
      "collapsed_sections": [
        "wRH2u-dX7WzM",
        "7y5Llo_mx9Cz",
        "jcSLZs21QeUk"
      ],
      "include_colab_link": true
    },
    "kernelspec": {
      "display_name": "Python 3 (ipykernel)",
      "language": "python",
      "name": "python3"
    },
    "language_info": {
      "codemirror_mode": {
        "name": "ipython",
        "version": 3
      },
      "file_extension": ".py",
      "mimetype": "text/x-python",
      "name": "python",
      "nbconvert_exporter": "python",
      "pygments_lexer": "ipython3",
      "version": "3.9.12"
    }
  },
  "nbformat": 4,
  "nbformat_minor": 0
}